{
 "cells": [
  {
   "cell_type": "markdown",
   "id": "fd0df65c",
   "metadata": {
    "papermill": {
     "duration": 0.018171,
     "end_time": "2023-12-13T15:07:22.756062",
     "exception": false,
     "start_time": "2023-12-13T15:07:22.737891",
     "status": "completed"
    },
    "tags": []
   },
   "source": [
    "# Importing Dependencies"
   ]
  },
  {
   "cell_type": "code",
   "execution_count": 1,
   "id": "b9a0d852",
   "metadata": {
    "_cell_guid": "b1076dfc-b9ad-4769-8c92-a6c4dae69d19",
    "_uuid": "8f2839f25d086af736a60e9eeb907d3b93b6e0e5",
    "execution": {
     "iopub.execute_input": "2023-12-13T15:07:22.787592Z",
     "iopub.status.busy": "2023-12-13T15:07:22.787165Z",
     "iopub.status.idle": "2023-12-13T15:07:27.066980Z",
     "shell.execute_reply": "2023-12-13T15:07:27.065914Z"
    },
    "papermill": {
     "duration": 4.299097,
     "end_time": "2023-12-13T15:07:27.069912",
     "exception": false,
     "start_time": "2023-12-13T15:07:22.770815",
     "status": "completed"
    },
    "tags": []
   },
   "outputs": [
    {
     "name": "stdout",
     "output_type": "stream",
     "text": [
      "/kaggle/input/playground-series-s3e26/sample_submission.csv\n",
      "/kaggle/input/playground-series-s3e26/train.csv\n",
      "/kaggle/input/playground-series-s3e26/test.csv\n"
     ]
    }
   ],
   "source": [
    "import numpy as np\n",
    "import pandas as pd\n",
    "import os\n",
    "for dirname, _, filenames in os.walk('/kaggle/input'):\n",
    "    for filename in filenames:\n",
    "        print(os.path.join(dirname, filename))\n",
    "from lightgbm import LGBMClassifier, log_evaluation\n",
    "from sklearn.model_selection import train_test_split\n",
    "from sklearn.preprocessing import LabelEncoder, MinMaxScaler, PolynomialFeatures\n",
    "from sklearn.metrics import accuracy_score, log_loss\n",
    "from sklearn.model_selection import RandomizedSearchCV\n",
    "import scipy\n",
    "import warnings"
   ]
  },
  {
   "cell_type": "markdown",
   "id": "f9432e1d",
   "metadata": {
    "papermill": {
     "duration": 0.01394,
     "end_time": "2023-12-13T15:07:27.098266",
     "exception": false,
     "start_time": "2023-12-13T15:07:27.084326",
     "status": "completed"
    },
    "tags": []
   },
   "source": [
    "# Importing Data"
   ]
  },
  {
   "cell_type": "code",
   "execution_count": 2,
   "id": "1d89e9cd",
   "metadata": {
    "execution": {
     "iopub.execute_input": "2023-12-13T15:07:27.128365Z",
     "iopub.status.busy": "2023-12-13T15:07:27.127516Z",
     "iopub.status.idle": "2023-12-13T15:07:27.217464Z",
     "shell.execute_reply": "2023-12-13T15:07:27.216252Z"
    },
    "papermill": {
     "duration": 0.108046,
     "end_time": "2023-12-13T15:07:27.220188",
     "exception": false,
     "start_time": "2023-12-13T15:07:27.112142",
     "status": "completed"
    },
    "tags": []
   },
   "outputs": [],
   "source": [
    "train_data = pd.read_csv('/kaggle/input/playground-series-s3e26/train.csv')\n",
    "test_data = pd.read_csv('/kaggle/input/playground-series-s3e26/test.csv')\n",
    "submission = pd.read_csv('/kaggle/input/playground-series-s3e26/sample_submission.csv')"
   ]
  },
  {
   "cell_type": "markdown",
   "id": "055eff43",
   "metadata": {
    "papermill": {
     "duration": 0.014258,
     "end_time": "2023-12-13T15:07:27.248613",
     "exception": false,
     "start_time": "2023-12-13T15:07:27.234355",
     "status": "completed"
    },
    "tags": []
   },
   "source": [
    "# Familiarising with the Data"
   ]
  },
  {
   "cell_type": "code",
   "execution_count": 3,
   "id": "15c92175",
   "metadata": {
    "execution": {
     "iopub.execute_input": "2023-12-13T15:07:27.278961Z",
     "iopub.status.busy": "2023-12-13T15:07:27.278568Z",
     "iopub.status.idle": "2023-12-13T15:07:27.324054Z",
     "shell.execute_reply": "2023-12-13T15:07:27.322841Z"
    },
    "papermill": {
     "duration": 0.065076,
     "end_time": "2023-12-13T15:07:27.327647",
     "exception": false,
     "start_time": "2023-12-13T15:07:27.262571",
     "status": "completed"
    },
    "tags": []
   },
   "outputs": [
    {
     "data": {
      "text/html": [
       "<div>\n",
       "<style scoped>\n",
       "    .dataframe tbody tr th:only-of-type {\n",
       "        vertical-align: middle;\n",
       "    }\n",
       "\n",
       "    .dataframe tbody tr th {\n",
       "        vertical-align: top;\n",
       "    }\n",
       "\n",
       "    .dataframe thead th {\n",
       "        text-align: right;\n",
       "    }\n",
       "</style>\n",
       "<table border=\"1\" class=\"dataframe\">\n",
       "  <thead>\n",
       "    <tr style=\"text-align: right;\">\n",
       "      <th></th>\n",
       "      <th>id</th>\n",
       "      <th>N_Days</th>\n",
       "      <th>Drug</th>\n",
       "      <th>Age</th>\n",
       "      <th>Sex</th>\n",
       "      <th>Ascites</th>\n",
       "      <th>Hepatomegaly</th>\n",
       "      <th>Spiders</th>\n",
       "      <th>Edema</th>\n",
       "      <th>Bilirubin</th>\n",
       "      <th>Cholesterol</th>\n",
       "      <th>Albumin</th>\n",
       "      <th>Copper</th>\n",
       "      <th>Alk_Phos</th>\n",
       "      <th>SGOT</th>\n",
       "      <th>Tryglicerides</th>\n",
       "      <th>Platelets</th>\n",
       "      <th>Prothrombin</th>\n",
       "      <th>Stage</th>\n",
       "      <th>Status</th>\n",
       "    </tr>\n",
       "  </thead>\n",
       "  <tbody>\n",
       "    <tr>\n",
       "      <th>0</th>\n",
       "      <td>0</td>\n",
       "      <td>999</td>\n",
       "      <td>D-penicillamine</td>\n",
       "      <td>21532</td>\n",
       "      <td>M</td>\n",
       "      <td>N</td>\n",
       "      <td>N</td>\n",
       "      <td>N</td>\n",
       "      <td>N</td>\n",
       "      <td>2.3</td>\n",
       "      <td>316.0</td>\n",
       "      <td>3.35</td>\n",
       "      <td>172.0</td>\n",
       "      <td>1601.0</td>\n",
       "      <td>179.80</td>\n",
       "      <td>63.0</td>\n",
       "      <td>394.0</td>\n",
       "      <td>9.7</td>\n",
       "      <td>3.0</td>\n",
       "      <td>D</td>\n",
       "    </tr>\n",
       "    <tr>\n",
       "      <th>1</th>\n",
       "      <td>1</td>\n",
       "      <td>2574</td>\n",
       "      <td>Placebo</td>\n",
       "      <td>19237</td>\n",
       "      <td>F</td>\n",
       "      <td>N</td>\n",
       "      <td>N</td>\n",
       "      <td>N</td>\n",
       "      <td>N</td>\n",
       "      <td>0.9</td>\n",
       "      <td>364.0</td>\n",
       "      <td>3.54</td>\n",
       "      <td>63.0</td>\n",
       "      <td>1440.0</td>\n",
       "      <td>134.85</td>\n",
       "      <td>88.0</td>\n",
       "      <td>361.0</td>\n",
       "      <td>11.0</td>\n",
       "      <td>3.0</td>\n",
       "      <td>C</td>\n",
       "    </tr>\n",
       "    <tr>\n",
       "      <th>2</th>\n",
       "      <td>2</td>\n",
       "      <td>3428</td>\n",
       "      <td>Placebo</td>\n",
       "      <td>13727</td>\n",
       "      <td>F</td>\n",
       "      <td>N</td>\n",
       "      <td>Y</td>\n",
       "      <td>Y</td>\n",
       "      <td>Y</td>\n",
       "      <td>3.3</td>\n",
       "      <td>299.0</td>\n",
       "      <td>3.55</td>\n",
       "      <td>131.0</td>\n",
       "      <td>1029.0</td>\n",
       "      <td>119.35</td>\n",
       "      <td>50.0</td>\n",
       "      <td>199.0</td>\n",
       "      <td>11.7</td>\n",
       "      <td>4.0</td>\n",
       "      <td>D</td>\n",
       "    </tr>\n",
       "    <tr>\n",
       "      <th>3</th>\n",
       "      <td>3</td>\n",
       "      <td>2576</td>\n",
       "      <td>Placebo</td>\n",
       "      <td>18460</td>\n",
       "      <td>F</td>\n",
       "      <td>N</td>\n",
       "      <td>N</td>\n",
       "      <td>N</td>\n",
       "      <td>N</td>\n",
       "      <td>0.6</td>\n",
       "      <td>256.0</td>\n",
       "      <td>3.50</td>\n",
       "      <td>58.0</td>\n",
       "      <td>1653.0</td>\n",
       "      <td>71.30</td>\n",
       "      <td>96.0</td>\n",
       "      <td>269.0</td>\n",
       "      <td>10.7</td>\n",
       "      <td>3.0</td>\n",
       "      <td>C</td>\n",
       "    </tr>\n",
       "    <tr>\n",
       "      <th>4</th>\n",
       "      <td>4</td>\n",
       "      <td>788</td>\n",
       "      <td>Placebo</td>\n",
       "      <td>16658</td>\n",
       "      <td>F</td>\n",
       "      <td>N</td>\n",
       "      <td>Y</td>\n",
       "      <td>N</td>\n",
       "      <td>N</td>\n",
       "      <td>1.1</td>\n",
       "      <td>346.0</td>\n",
       "      <td>3.65</td>\n",
       "      <td>63.0</td>\n",
       "      <td>1181.0</td>\n",
       "      <td>125.55</td>\n",
       "      <td>96.0</td>\n",
       "      <td>298.0</td>\n",
       "      <td>10.6</td>\n",
       "      <td>4.0</td>\n",
       "      <td>C</td>\n",
       "    </tr>\n",
       "  </tbody>\n",
       "</table>\n",
       "</div>"
      ],
      "text/plain": [
       "   id  N_Days             Drug    Age Sex Ascites Hepatomegaly Spiders Edema  \\\n",
       "0   0     999  D-penicillamine  21532   M       N            N       N     N   \n",
       "1   1    2574          Placebo  19237   F       N            N       N     N   \n",
       "2   2    3428          Placebo  13727   F       N            Y       Y     Y   \n",
       "3   3    2576          Placebo  18460   F       N            N       N     N   \n",
       "4   4     788          Placebo  16658   F       N            Y       N     N   \n",
       "\n",
       "   Bilirubin  Cholesterol  Albumin  Copper  Alk_Phos    SGOT  Tryglicerides  \\\n",
       "0        2.3        316.0     3.35   172.0    1601.0  179.80           63.0   \n",
       "1        0.9        364.0     3.54    63.0    1440.0  134.85           88.0   \n",
       "2        3.3        299.0     3.55   131.0    1029.0  119.35           50.0   \n",
       "3        0.6        256.0     3.50    58.0    1653.0   71.30           96.0   \n",
       "4        1.1        346.0     3.65    63.0    1181.0  125.55           96.0   \n",
       "\n",
       "   Platelets  Prothrombin  Stage Status  \n",
       "0      394.0          9.7    3.0      D  \n",
       "1      361.0         11.0    3.0      C  \n",
       "2      199.0         11.7    4.0      D  \n",
       "3      269.0         10.7    3.0      C  \n",
       "4      298.0         10.6    4.0      C  "
      ]
     },
     "execution_count": 3,
     "metadata": {},
     "output_type": "execute_result"
    }
   ],
   "source": [
    "train_data.head()"
   ]
  },
  {
   "cell_type": "code",
   "execution_count": 4,
   "id": "47ca479e",
   "metadata": {
    "execution": {
     "iopub.execute_input": "2023-12-13T15:07:27.361946Z",
     "iopub.status.busy": "2023-12-13T15:07:27.361539Z",
     "iopub.status.idle": "2023-12-13T15:07:27.369152Z",
     "shell.execute_reply": "2023-12-13T15:07:27.367915Z"
    },
    "papermill": {
     "duration": 0.028439,
     "end_time": "2023-12-13T15:07:27.371824",
     "exception": false,
     "start_time": "2023-12-13T15:07:27.343385",
     "status": "completed"
    },
    "tags": []
   },
   "outputs": [
    {
     "data": {
      "text/plain": [
       "(7905, 20)"
      ]
     },
     "execution_count": 4,
     "metadata": {},
     "output_type": "execute_result"
    }
   ],
   "source": [
    "train_data.shape"
   ]
  },
  {
   "cell_type": "markdown",
   "id": "9eae82e2",
   "metadata": {
    "papermill": {
     "duration": 0.015053,
     "end_time": "2023-12-13T15:07:27.402032",
     "exception": false,
     "start_time": "2023-12-13T15:07:27.386979",
     "status": "completed"
    },
    "tags": []
   },
   "source": [
    "So there are 7905 training examples and each example has 20 attributes.\n",
    "We will look for null values in our data."
   ]
  },
  {
   "cell_type": "code",
   "execution_count": 5,
   "id": "dee08aa3",
   "metadata": {
    "execution": {
     "iopub.execute_input": "2023-12-13T15:07:27.434614Z",
     "iopub.status.busy": "2023-12-13T15:07:27.434181Z",
     "iopub.status.idle": "2023-12-13T15:07:27.450314Z",
     "shell.execute_reply": "2023-12-13T15:07:27.448870Z"
    },
    "papermill": {
     "duration": 0.035346,
     "end_time": "2023-12-13T15:07:27.452861",
     "exception": false,
     "start_time": "2023-12-13T15:07:27.417515",
     "status": "completed"
    },
    "tags": []
   },
   "outputs": [
    {
     "name": "stdout",
     "output_type": "stream",
     "text": [
      "id               0\n",
      "N_Days           0\n",
      "Drug             0\n",
      "Age              0\n",
      "Sex              0\n",
      "Ascites          0\n",
      "Hepatomegaly     0\n",
      "Spiders          0\n",
      "Edema            0\n",
      "Bilirubin        0\n",
      "Cholesterol      0\n",
      "Albumin          0\n",
      "Copper           0\n",
      "Alk_Phos         0\n",
      "SGOT             0\n",
      "Tryglicerides    0\n",
      "Platelets        0\n",
      "Prothrombin      0\n",
      "Stage            0\n",
      "Status           0\n",
      "dtype: int64\n"
     ]
    }
   ],
   "source": [
    "print(train_data.isnull().sum())"
   ]
  },
  {
   "cell_type": "markdown",
   "id": "31e182aa",
   "metadata": {
    "papermill": {
     "duration": 0.017803,
     "end_time": "2023-12-13T15:07:27.486284",
     "exception": false,
     "start_time": "2023-12-13T15:07:27.468481",
     "status": "completed"
    },
    "tags": []
   },
   "source": [
    "Great! <br>\n",
    "There are no missing values in our data set."
   ]
  },
  {
   "cell_type": "markdown",
   "id": "6c10ecab",
   "metadata": {
    "papermill": {
     "duration": 0.014801,
     "end_time": "2023-12-13T15:07:27.516887",
     "exception": false,
     "start_time": "2023-12-13T15:07:27.502086",
     "status": "completed"
    },
    "tags": []
   },
   "source": [
    "# Feature Scaling\n",
    "We will scale our numeric data.<br>\n",
    "First, let's find the numeric data in our dataset."
   ]
  },
  {
   "cell_type": "code",
   "execution_count": 6,
   "id": "30bc24d8",
   "metadata": {
    "execution": {
     "iopub.execute_input": "2023-12-13T15:07:27.616729Z",
     "iopub.status.busy": "2023-12-13T15:07:27.616305Z",
     "iopub.status.idle": "2023-12-13T15:07:27.623952Z",
     "shell.execute_reply": "2023-12-13T15:07:27.622269Z"
    },
    "papermill": {
     "duration": 0.026896,
     "end_time": "2023-12-13T15:07:27.626264",
     "exception": false,
     "start_time": "2023-12-13T15:07:27.599368",
     "status": "completed"
    },
    "tags": []
   },
   "outputs": [
    {
     "name": "stdout",
     "output_type": "stream",
     "text": [
      "Index(['id', 'N_Days', 'Age', 'Bilirubin', 'Cholesterol', 'Albumin', 'Copper',\n",
      "       'Alk_Phos', 'SGOT', 'Tryglicerides', 'Platelets', 'Prothrombin',\n",
      "       'Stage'],\n",
      "      dtype='object')\n"
     ]
    }
   ],
   "source": [
    "print(train_data.select_dtypes(include='number').columns)"
   ]
  },
  {
   "cell_type": "markdown",
   "id": "42e095f2",
   "metadata": {
    "papermill": {
     "duration": 0.014613,
     "end_time": "2023-12-13T15:07:27.656581",
     "exception": false,
     "start_time": "2023-12-13T15:07:27.641968",
     "status": "completed"
    },
    "tags": []
   },
   "source": [
    "The attributes which are numeric in our dataset are\n",
    "* N_Days\n",
    "* Age\n",
    "* Bilirubin\n",
    "* Cholestrol\n",
    "* Albumin\n",
    "* Copper\n",
    "* Alk_Phos\n",
    "* SGOT\n",
    "* Triglicerides\n",
    "* Platelets\n",
    "* Prothrombin\n",
    "* Stage"
   ]
  },
  {
   "cell_type": "markdown",
   "id": "7ce9996d",
   "metadata": {
    "papermill": {
     "duration": 0.014658,
     "end_time": "2023-12-13T15:07:27.687157",
     "exception": false,
     "start_time": "2023-12-13T15:07:27.672499",
     "status": "completed"
    },
    "tags": []
   },
   "source": [
    "We will be scaling these attributes using the MinMaxScaler."
   ]
  },
  {
   "cell_type": "code",
   "execution_count": 7,
   "id": "eb5ebf42",
   "metadata": {
    "execution": {
     "iopub.execute_input": "2023-12-13T15:07:27.718983Z",
     "iopub.status.busy": "2023-12-13T15:07:27.718611Z",
     "iopub.status.idle": "2023-12-13T15:07:27.767718Z",
     "shell.execute_reply": "2023-12-13T15:07:27.766500Z"
    },
    "papermill": {
     "duration": 0.068407,
     "end_time": "2023-12-13T15:07:27.770403",
     "exception": false,
     "start_time": "2023-12-13T15:07:27.701996",
     "status": "completed"
    },
    "tags": []
   },
   "outputs": [
    {
     "data": {
      "text/html": [
       "<div>\n",
       "<style scoped>\n",
       "    .dataframe tbody tr th:only-of-type {\n",
       "        vertical-align: middle;\n",
       "    }\n",
       "\n",
       "    .dataframe tbody tr th {\n",
       "        vertical-align: top;\n",
       "    }\n",
       "\n",
       "    .dataframe thead th {\n",
       "        text-align: right;\n",
       "    }\n",
       "</style>\n",
       "<table border=\"1\" class=\"dataframe\">\n",
       "  <thead>\n",
       "    <tr style=\"text-align: right;\">\n",
       "      <th></th>\n",
       "      <th>id</th>\n",
       "      <th>N_Days</th>\n",
       "      <th>Drug</th>\n",
       "      <th>Age</th>\n",
       "      <th>Sex</th>\n",
       "      <th>Ascites</th>\n",
       "      <th>Hepatomegaly</th>\n",
       "      <th>Spiders</th>\n",
       "      <th>Edema</th>\n",
       "      <th>Bilirubin</th>\n",
       "      <th>Cholesterol</th>\n",
       "      <th>Albumin</th>\n",
       "      <th>Copper</th>\n",
       "      <th>Alk_Phos</th>\n",
       "      <th>SGOT</th>\n",
       "      <th>Tryglicerides</th>\n",
       "      <th>Platelets</th>\n",
       "      <th>Prothrombin</th>\n",
       "      <th>Stage</th>\n",
       "    </tr>\n",
       "  </thead>\n",
       "  <tbody>\n",
       "    <tr>\n",
       "      <th>0</th>\n",
       "      <td>7905</td>\n",
       "      <td>0.798906</td>\n",
       "      <td>D-penicillamine</td>\n",
       "      <td>0.531493</td>\n",
       "      <td>F</td>\n",
       "      <td>N</td>\n",
       "      <td>Y</td>\n",
       "      <td>N</td>\n",
       "      <td>N</td>\n",
       "      <td>0.032491</td>\n",
       "      <td>0.257402</td>\n",
       "      <td>0.526119</td>\n",
       "      <td>0.104452</td>\n",
       "      <td>0.099238</td>\n",
       "      <td>0.291367</td>\n",
       "      <td>0.100885</td>\n",
       "      <td>0.734531</td>\n",
       "      <td>0.258065</td>\n",
       "      <td>0.333333</td>\n",
       "    </tr>\n",
       "    <tr>\n",
       "      <th>1</th>\n",
       "      <td>7906</td>\n",
       "      <td>0.510517</td>\n",
       "      <td>D-penicillamine</td>\n",
       "      <td>0.282228</td>\n",
       "      <td>F</td>\n",
       "      <td>N</td>\n",
       "      <td>N</td>\n",
       "      <td>N</td>\n",
       "      <td>N</td>\n",
       "      <td>0.028881</td>\n",
       "      <td>0.326284</td>\n",
       "      <td>0.843284</td>\n",
       "      <td>0.154110</td>\n",
       "      <td>0.071316</td>\n",
       "      <td>0.291367</td>\n",
       "      <td>0.215929</td>\n",
       "      <td>0.329341</td>\n",
       "      <td>0.161290</td>\n",
       "      <td>0.333333</td>\n",
       "    </tr>\n",
       "    <tr>\n",
       "      <th>2</th>\n",
       "      <td>7907</td>\n",
       "      <td>0.002103</td>\n",
       "      <td>Placebo</td>\n",
       "      <td>0.186385</td>\n",
       "      <td>F</td>\n",
       "      <td>N</td>\n",
       "      <td>Y</td>\n",
       "      <td>N</td>\n",
       "      <td>Y</td>\n",
       "      <td>0.061372</td>\n",
       "      <td>0.018731</td>\n",
       "      <td>0.373134</td>\n",
       "      <td>0.071918</td>\n",
       "      <td>0.049509</td>\n",
       "      <td>0.100719</td>\n",
       "      <td>0.120354</td>\n",
       "      <td>0.301397</td>\n",
       "      <td>0.645161</td>\n",
       "      <td>1.000000</td>\n",
       "    </tr>\n",
       "    <tr>\n",
       "      <th>3</th>\n",
       "      <td>7908</td>\n",
       "      <td>0.481489</td>\n",
       "      <td>D-penicillamine</td>\n",
       "      <td>0.572748</td>\n",
       "      <td>F</td>\n",
       "      <td>N</td>\n",
       "      <td>N</td>\n",
       "      <td>N</td>\n",
       "      <td>N</td>\n",
       "      <td>0.010830</td>\n",
       "      <td>0.104532</td>\n",
       "      <td>0.705224</td>\n",
       "      <td>0.061644</td>\n",
       "      <td>0.019523</td>\n",
       "      <td>0.230216</td>\n",
       "      <td>0.040708</td>\n",
       "      <td>0.415170</td>\n",
       "      <td>0.258065</td>\n",
       "      <td>0.333333</td>\n",
       "    </tr>\n",
       "    <tr>\n",
       "      <th>4</th>\n",
       "      <td>7909</td>\n",
       "      <td>0.331090</td>\n",
       "      <td>D-penicillamine</td>\n",
       "      <td>0.645916</td>\n",
       "      <td>F</td>\n",
       "      <td>N</td>\n",
       "      <td>Y</td>\n",
       "      <td>N</td>\n",
       "      <td>N</td>\n",
       "      <td>0.039711</td>\n",
       "      <td>0.094864</td>\n",
       "      <td>0.376866</td>\n",
       "      <td>0.200342</td>\n",
       "      <td>0.060486</td>\n",
       "      <td>0.228939</td>\n",
       "      <td>0.164602</td>\n",
       "      <td>0.317365</td>\n",
       "      <td>0.129032</td>\n",
       "      <td>0.000000</td>\n",
       "    </tr>\n",
       "  </tbody>\n",
       "</table>\n",
       "</div>"
      ],
      "text/plain": [
       "     id    N_Days             Drug       Age Sex Ascites Hepatomegaly Spiders  \\\n",
       "0  7905  0.798906  D-penicillamine  0.531493   F       N            Y       N   \n",
       "1  7906  0.510517  D-penicillamine  0.282228   F       N            N       N   \n",
       "2  7907  0.002103          Placebo  0.186385   F       N            Y       N   \n",
       "3  7908  0.481489  D-penicillamine  0.572748   F       N            N       N   \n",
       "4  7909  0.331090  D-penicillamine  0.645916   F       N            Y       N   \n",
       "\n",
       "  Edema  Bilirubin  Cholesterol   Albumin    Copper  Alk_Phos      SGOT  \\\n",
       "0     N   0.032491     0.257402  0.526119  0.104452  0.099238  0.291367   \n",
       "1     N   0.028881     0.326284  0.843284  0.154110  0.071316  0.291367   \n",
       "2     Y   0.061372     0.018731  0.373134  0.071918  0.049509  0.100719   \n",
       "3     N   0.010830     0.104532  0.705224  0.061644  0.019523  0.230216   \n",
       "4     N   0.039711     0.094864  0.376866  0.200342  0.060486  0.228939   \n",
       "\n",
       "   Tryglicerides  Platelets  Prothrombin     Stage  \n",
       "0       0.100885   0.734531     0.258065  0.333333  \n",
       "1       0.215929   0.329341     0.161290  0.333333  \n",
       "2       0.120354   0.301397     0.645161  1.000000  \n",
       "3       0.040708   0.415170     0.258065  0.333333  \n",
       "4       0.164602   0.317365     0.129032  0.000000  "
      ]
     },
     "execution_count": 7,
     "metadata": {},
     "output_type": "execute_result"
    }
   ],
   "source": [
    "numeric_cols = ['N_Days', 'Age', 'Bilirubin', 'Cholesterol', 'Albumin', 'Copper',\n",
    "       'Alk_Phos', 'SGOT', 'Tryglicerides', 'Platelets', 'Prothrombin',\n",
    "       'Stage']\n",
    "scaler = MinMaxScaler()\n",
    "train_data[numeric_cols] = scaler.fit_transform(train_data[numeric_cols])\n",
    "test_data[numeric_cols] = scaler.fit_transform(test_data[numeric_cols])\n",
    "train_data.head()\n",
    "test_data.head()"
   ]
  },
  {
   "cell_type": "markdown",
   "id": "c6207a3b",
   "metadata": {
    "papermill": {
     "duration": 0.015564,
     "end_time": "2023-12-13T15:07:27.801584",
     "exception": false,
     "start_time": "2023-12-13T15:07:27.786020",
     "status": "completed"
    },
    "tags": []
   },
   "source": [
    "Our data is nicely normalized now."
   ]
  },
  {
   "cell_type": "markdown",
   "id": "34704e88",
   "metadata": {
    "papermill": {
     "duration": 0.014968,
     "end_time": "2023-12-13T15:07:27.831692",
     "exception": false,
     "start_time": "2023-12-13T15:07:27.816724",
     "status": "completed"
    },
    "tags": []
   },
   "source": [
    "# Model Building\n",
    "We are going to use LightGBM for this model. We will make a gradient boosting machine to detect liver cirrhosis among the patients. <br>\n",
    "First we will take a look at the categorical data in our training set."
   ]
  },
  {
   "cell_type": "code",
   "execution_count": 8,
   "id": "b25886cc",
   "metadata": {
    "execution": {
     "iopub.execute_input": "2023-12-13T15:07:27.865866Z",
     "iopub.status.busy": "2023-12-13T15:07:27.865150Z",
     "iopub.status.idle": "2023-12-13T15:07:27.871262Z",
     "shell.execute_reply": "2023-12-13T15:07:27.870011Z"
    },
    "papermill": {
     "duration": 0.026003,
     "end_time": "2023-12-13T15:07:27.873580",
     "exception": false,
     "start_time": "2023-12-13T15:07:27.847577",
     "status": "completed"
    },
    "tags": []
   },
   "outputs": [
    {
     "name": "stdout",
     "output_type": "stream",
     "text": [
      "Index([], dtype='object')\n"
     ]
    }
   ],
   "source": [
    "print(train_data.select_dtypes(include = 'category').columns)"
   ]
  },
  {
   "cell_type": "markdown",
   "id": "005c00f6",
   "metadata": {
    "papermill": {
     "duration": 0.017112,
     "end_time": "2023-12-13T15:07:27.906670",
     "exception": false,
     "start_time": "2023-12-13T15:07:27.889558",
     "status": "completed"
    },
    "tags": []
   },
   "source": [
    "So the attributes which have categorical data are\n",
    "- Drug\n",
    "- Sex\n",
    "- Ascites\n",
    "- Hepatomegaly\n",
    "- Spiders\n",
    "- Edema \n",
    "- Status"
   ]
  },
  {
   "cell_type": "code",
   "execution_count": 9,
   "id": "aaa6a560",
   "metadata": {
    "execution": {
     "iopub.execute_input": "2023-12-13T15:07:27.941515Z",
     "iopub.status.busy": "2023-12-13T15:07:27.940354Z",
     "iopub.status.idle": "2023-12-13T15:07:27.946268Z",
     "shell.execute_reply": "2023-12-13T15:07:27.945386Z"
    },
    "papermill": {
     "duration": 0.025493,
     "end_time": "2023-12-13T15:07:27.948803",
     "exception": false,
     "start_time": "2023-12-13T15:07:27.923310",
     "status": "completed"
    },
    "tags": []
   },
   "outputs": [],
   "source": [
    "categorical_cols1 = ['Drug', 'Sex', 'Ascites', 'Hepatomegaly', 'Spiders', 'Edema', 'Status']\n",
    "categorical_cols2 = ['Drug', 'Sex', 'Ascites', 'Hepatomegaly', 'Spiders', 'Edema']"
   ]
  },
  {
   "cell_type": "markdown",
   "id": "117971bc",
   "metadata": {
    "papermill": {
     "duration": 0.017998,
     "end_time": "2023-12-13T15:07:27.983570",
     "exception": false,
     "start_time": "2023-12-13T15:07:27.965572",
     "status": "completed"
    },
    "tags": []
   },
   "source": [
    "Converting the categorical data to numeric using Label Encoder."
   ]
  },
  {
   "cell_type": "code",
   "execution_count": 10,
   "id": "57657f85",
   "metadata": {
    "execution": {
     "iopub.execute_input": "2023-12-13T15:07:28.019374Z",
     "iopub.status.busy": "2023-12-13T15:07:28.018204Z",
     "iopub.status.idle": "2023-12-13T15:07:28.056603Z",
     "shell.execute_reply": "2023-12-13T15:07:28.055279Z"
    },
    "papermill": {
     "duration": 0.060317,
     "end_time": "2023-12-13T15:07:28.060367",
     "exception": false,
     "start_time": "2023-12-13T15:07:28.000050",
     "status": "completed"
    },
    "tags": []
   },
   "outputs": [],
   "source": [
    "le = LabelEncoder()\n",
    "for col in categorical_cols1:\n",
    "    train_data[col] = le.fit_transform(train_data[col])\n",
    "    \n",
    "for col in categorical_cols2:\n",
    "    test_data[col] = le.fit_transform(test_data[col])"
   ]
  },
  {
   "cell_type": "markdown",
   "id": "8e2c1dcd",
   "metadata": {
    "papermill": {
     "duration": 0.015949,
     "end_time": "2023-12-13T15:07:28.094725",
     "exception": false,
     "start_time": "2023-12-13T15:07:28.078776",
     "status": "completed"
    },
    "tags": []
   },
   "source": [
    "We will now make categorical columns for the categorical data."
   ]
  },
  {
   "cell_type": "code",
   "execution_count": 11,
   "id": "6541462c",
   "metadata": {
    "execution": {
     "iopub.execute_input": "2023-12-13T15:07:28.130212Z",
     "iopub.status.busy": "2023-12-13T15:07:28.129353Z",
     "iopub.status.idle": "2023-12-13T15:07:28.156655Z",
     "shell.execute_reply": "2023-12-13T15:07:28.155220Z"
    },
    "papermill": {
     "duration": 0.048803,
     "end_time": "2023-12-13T15:07:28.159905",
     "exception": false,
     "start_time": "2023-12-13T15:07:28.111102",
     "status": "completed"
    },
    "tags": []
   },
   "outputs": [],
   "source": [
    "train_data[categorical_cols1] = train_data[categorical_cols1].astype('category')\n",
    "test_data[categorical_cols2] = test_data[categorical_cols2].astype('category')"
   ]
  },
  {
   "cell_type": "markdown",
   "id": "97f073b9",
   "metadata": {
    "papermill": {
     "duration": 0.016946,
     "end_time": "2023-12-13T15:07:28.193067",
     "exception": false,
     "start_time": "2023-12-13T15:07:28.176121",
     "status": "completed"
    },
    "tags": []
   },
   "source": [
    "We will be making 2 dataframes X(training set) and y(target values). The X and y dataframes are then split into training sets and dev sets respectively."
   ]
  },
  {
   "cell_type": "code",
   "execution_count": 12,
   "id": "22390046",
   "metadata": {
    "execution": {
     "iopub.execute_input": "2023-12-13T15:07:28.227612Z",
     "iopub.status.busy": "2023-12-13T15:07:28.227206Z",
     "iopub.status.idle": "2023-12-13T15:07:28.239479Z",
     "shell.execute_reply": "2023-12-13T15:07:28.238599Z"
    },
    "papermill": {
     "duration": 0.031937,
     "end_time": "2023-12-13T15:07:28.241911",
     "exception": false,
     "start_time": "2023-12-13T15:07:28.209974",
     "status": "completed"
    },
    "tags": []
   },
   "outputs": [],
   "source": [
    "X = train_data.drop('Status', axis=1)\n",
    "y = train_data['Status']\n",
    "X_train, X_valid, y_train, y_valid = train_test_split(X, y, test_size=0.2, random_state=42)"
   ]
  },
  {
   "cell_type": "markdown",
   "id": "40f4a379",
   "metadata": {
    "papermill": {
     "duration": 0.015824,
     "end_time": "2023-12-13T15:07:28.274238",
     "exception": false,
     "start_time": "2023-12-13T15:07:28.258414",
     "status": "completed"
    },
    "tags": []
   },
   "source": [
    "Now we will do some **feature engineering** to make our data even better."
   ]
  },
  {
   "cell_type": "code",
   "execution_count": 13,
   "id": "1ec9f6f0",
   "metadata": {
    "execution": {
     "iopub.execute_input": "2023-12-13T15:07:28.309765Z",
     "iopub.status.busy": "2023-12-13T15:07:28.308559Z",
     "iopub.status.idle": "2023-12-13T15:07:28.369295Z",
     "shell.execute_reply": "2023-12-13T15:07:28.368323Z"
    },
    "papermill": {
     "duration": 0.081594,
     "end_time": "2023-12-13T15:07:28.372413",
     "exception": false,
     "start_time": "2023-12-13T15:07:28.290819",
     "status": "completed"
    },
    "tags": []
   },
   "outputs": [],
   "source": [
    "poly = PolynomialFeatures(degree=2, include_bias=True)\n",
    "X_train_poly = poly.fit_transform(X_train)\n",
    "X_valid_poly = poly.fit_transform(X_valid)\n",
    "test_data_poly = poly.fit_transform(test_data)"
   ]
  },
  {
   "cell_type": "markdown",
   "id": "bb822fcb",
   "metadata": {
    "papermill": {
     "duration": 0.015342,
     "end_time": "2023-12-13T15:07:28.403897",
     "exception": false,
     "start_time": "2023-12-13T15:07:28.388555",
     "status": "completed"
    },
    "tags": []
   },
   "source": [
    "Follwing that we are going to be making the LightGBM Classifier, which we will use to train the classifier."
   ]
  },
  {
   "cell_type": "code",
   "execution_count": 14,
   "id": "c0ce5919",
   "metadata": {
    "execution": {
     "iopub.execute_input": "2023-12-13T15:07:28.440175Z",
     "iopub.status.busy": "2023-12-13T15:07:28.438956Z",
     "iopub.status.idle": "2023-12-13T15:07:28.447990Z",
     "shell.execute_reply": "2023-12-13T15:07:28.447056Z"
    },
    "papermill": {
     "duration": 0.029959,
     "end_time": "2023-12-13T15:07:28.450567",
     "exception": false,
     "start_time": "2023-12-13T15:07:28.420608",
     "status": "completed"
    },
    "tags": []
   },
   "outputs": [],
   "source": [
    "clf = LGBMClassifier(\n",
    "    objective='multiclass',\n",
    "    num_class=len(train_data['Status'].unique()),\n",
    "    metric='multi_logloss',\n",
    "    boosting_type='gbdt',\n",
    "    colsample_bytree=0.024440530059814475,\n",
    "    lambda_l1=0.851568757271025,\n",
    "    lambda_l2=0.6986338677174764,\n",
    "    learning_rate=0.07322492408954809,\n",
    "    max_depth=7,\n",
    "    min_child_samples=8,\n",
    "    min_child_weight=12.618916687176323,\n",
    "    min_gain_to_split=0.022185549105773583,\n",
    "    n_estimators=156,\n",
    "    num_leaves=23,\n",
    "    subsample=0.555311369173475,\n",
    "    random_state=42\n",
    ")"
   ]
  },
  {
   "cell_type": "markdown",
   "id": "26f6701a",
   "metadata": {
    "papermill": {
     "duration": 0.016066,
     "end_time": "2023-12-13T15:07:28.482100",
     "exception": false,
     "start_time": "2023-12-13T15:07:28.466034",
     "status": "completed"
    },
    "tags": []
   },
   "source": [
    "After this, we will fit the data into the training sets."
   ]
  },
  {
   "cell_type": "code",
   "execution_count": 15,
   "id": "f61b0fad",
   "metadata": {
    "execution": {
     "iopub.execute_input": "2023-12-13T15:07:28.516522Z",
     "iopub.status.busy": "2023-12-13T15:07:28.515613Z",
     "iopub.status.idle": "2023-12-13T15:07:31.798606Z",
     "shell.execute_reply": "2023-12-13T15:07:31.797476Z"
    },
    "papermill": {
     "duration": 3.302446,
     "end_time": "2023-12-13T15:07:31.801108",
     "exception": false,
     "start_time": "2023-12-13T15:07:28.498662",
     "status": "completed"
    },
    "tags": []
   },
   "outputs": [
    {
     "name": "stdout",
     "output_type": "stream",
     "text": [
      "[LightGBM] [Warning] lambda_l1 is set=0.851568757271025, reg_alpha=0.0 will be ignored. Current value: lambda_l1=0.851568757271025\n",
      "[LightGBM] [Warning] lambda_l2 is set=0.6986338677174764, reg_lambda=0.0 will be ignored. Current value: lambda_l2=0.6986338677174764\n",
      "[LightGBM] [Warning] min_gain_to_split is set=0.022185549105773583, min_split_gain=0.0 will be ignored. Current value: min_gain_to_split=0.022185549105773583\n"
     ]
    },
    {
     "data": {
      "text/html": [
       "<style>#sk-container-id-1 {color: black;background-color: white;}#sk-container-id-1 pre{padding: 0;}#sk-container-id-1 div.sk-toggleable {background-color: white;}#sk-container-id-1 label.sk-toggleable__label {cursor: pointer;display: block;width: 100%;margin-bottom: 0;padding: 0.3em;box-sizing: border-box;text-align: center;}#sk-container-id-1 label.sk-toggleable__label-arrow:before {content: \"▸\";float: left;margin-right: 0.25em;color: #696969;}#sk-container-id-1 label.sk-toggleable__label-arrow:hover:before {color: black;}#sk-container-id-1 div.sk-estimator:hover label.sk-toggleable__label-arrow:before {color: black;}#sk-container-id-1 div.sk-toggleable__content {max-height: 0;max-width: 0;overflow: hidden;text-align: left;background-color: #f0f8ff;}#sk-container-id-1 div.sk-toggleable__content pre {margin: 0.2em;color: black;border-radius: 0.25em;background-color: #f0f8ff;}#sk-container-id-1 input.sk-toggleable__control:checked~div.sk-toggleable__content {max-height: 200px;max-width: 100%;overflow: auto;}#sk-container-id-1 input.sk-toggleable__control:checked~label.sk-toggleable__label-arrow:before {content: \"▾\";}#sk-container-id-1 div.sk-estimator input.sk-toggleable__control:checked~label.sk-toggleable__label {background-color: #d4ebff;}#sk-container-id-1 div.sk-label input.sk-toggleable__control:checked~label.sk-toggleable__label {background-color: #d4ebff;}#sk-container-id-1 input.sk-hidden--visually {border: 0;clip: rect(1px 1px 1px 1px);clip: rect(1px, 1px, 1px, 1px);height: 1px;margin: -1px;overflow: hidden;padding: 0;position: absolute;width: 1px;}#sk-container-id-1 div.sk-estimator {font-family: monospace;background-color: #f0f8ff;border: 1px dotted black;border-radius: 0.25em;box-sizing: border-box;margin-bottom: 0.5em;}#sk-container-id-1 div.sk-estimator:hover {background-color: #d4ebff;}#sk-container-id-1 div.sk-parallel-item::after {content: \"\";width: 100%;border-bottom: 1px solid gray;flex-grow: 1;}#sk-container-id-1 div.sk-label:hover label.sk-toggleable__label {background-color: #d4ebff;}#sk-container-id-1 div.sk-serial::before {content: \"\";position: absolute;border-left: 1px solid gray;box-sizing: border-box;top: 0;bottom: 0;left: 50%;z-index: 0;}#sk-container-id-1 div.sk-serial {display: flex;flex-direction: column;align-items: center;background-color: white;padding-right: 0.2em;padding-left: 0.2em;position: relative;}#sk-container-id-1 div.sk-item {position: relative;z-index: 1;}#sk-container-id-1 div.sk-parallel {display: flex;align-items: stretch;justify-content: center;background-color: white;position: relative;}#sk-container-id-1 div.sk-item::before, #sk-container-id-1 div.sk-parallel-item::before {content: \"\";position: absolute;border-left: 1px solid gray;box-sizing: border-box;top: 0;bottom: 0;left: 50%;z-index: -1;}#sk-container-id-1 div.sk-parallel-item {display: flex;flex-direction: column;z-index: 1;position: relative;background-color: white;}#sk-container-id-1 div.sk-parallel-item:first-child::after {align-self: flex-end;width: 50%;}#sk-container-id-1 div.sk-parallel-item:last-child::after {align-self: flex-start;width: 50%;}#sk-container-id-1 div.sk-parallel-item:only-child::after {width: 0;}#sk-container-id-1 div.sk-dashed-wrapped {border: 1px dashed gray;margin: 0 0.4em 0.5em 0.4em;box-sizing: border-box;padding-bottom: 0.4em;background-color: white;}#sk-container-id-1 div.sk-label label {font-family: monospace;font-weight: bold;display: inline-block;line-height: 1.2em;}#sk-container-id-1 div.sk-label-container {text-align: center;}#sk-container-id-1 div.sk-container {/* jupyter's `normalize.less` sets `[hidden] { display: none; }` but bootstrap.min.css set `[hidden] { display: none !important; }` so we also need the `!important` here to be able to override the default hidden behavior on the sphinx rendered scikit-learn.org. See: https://github.com/scikit-learn/scikit-learn/issues/21755 */display: inline-block !important;position: relative;}#sk-container-id-1 div.sk-text-repr-fallback {display: none;}</style><div id=\"sk-container-id-1\" class=\"sk-top-container\"><div class=\"sk-text-repr-fallback\"><pre>LGBMClassifier(colsample_bytree=0.024440530059814475,\n",
       "               lambda_l1=0.851568757271025, lambda_l2=0.6986338677174764,\n",
       "               learning_rate=0.07322492408954809, max_depth=7,\n",
       "               metric=&#x27;multi_logloss&#x27;, min_child_samples=8,\n",
       "               min_child_weight=12.618916687176323,\n",
       "               min_gain_to_split=0.022185549105773583, n_estimators=156,\n",
       "               num_class=3, num_leaves=23, objective=&#x27;multiclass&#x27;,\n",
       "               random_state=42, subsample=0.555311369173475)</pre><b>In a Jupyter environment, please rerun this cell to show the HTML representation or trust the notebook. <br />On GitHub, the HTML representation is unable to render, please try loading this page with nbviewer.org.</b></div><div class=\"sk-container\" hidden><div class=\"sk-item\"><div class=\"sk-estimator sk-toggleable\"><input class=\"sk-toggleable__control sk-hidden--visually\" id=\"sk-estimator-id-1\" type=\"checkbox\" checked><label for=\"sk-estimator-id-1\" class=\"sk-toggleable__label sk-toggleable__label-arrow\">LGBMClassifier</label><div class=\"sk-toggleable__content\"><pre>LGBMClassifier(colsample_bytree=0.024440530059814475,\n",
       "               lambda_l1=0.851568757271025, lambda_l2=0.6986338677174764,\n",
       "               learning_rate=0.07322492408954809, max_depth=7,\n",
       "               metric=&#x27;multi_logloss&#x27;, min_child_samples=8,\n",
       "               min_child_weight=12.618916687176323,\n",
       "               min_gain_to_split=0.022185549105773583, n_estimators=156,\n",
       "               num_class=3, num_leaves=23, objective=&#x27;multiclass&#x27;,\n",
       "               random_state=42, subsample=0.555311369173475)</pre></div></div></div></div></div>"
      ],
      "text/plain": [
       "LGBMClassifier(colsample_bytree=0.024440530059814475,\n",
       "               lambda_l1=0.851568757271025, lambda_l2=0.6986338677174764,\n",
       "               learning_rate=0.07322492408954809, max_depth=7,\n",
       "               metric='multi_logloss', min_child_samples=8,\n",
       "               min_child_weight=12.618916687176323,\n",
       "               min_gain_to_split=0.022185549105773583, n_estimators=156,\n",
       "               num_class=3, num_leaves=23, objective='multiclass',\n",
       "               random_state=42, subsample=0.555311369173475)"
      ]
     },
     "execution_count": 15,
     "metadata": {},
     "output_type": "execute_result"
    }
   ],
   "source": [
    "clf.fit(\n",
    "    X_train_poly, y_train,\n",
    ")"
   ]
  },
  {
   "cell_type": "markdown",
   "id": "17e51a17",
   "metadata": {
    "papermill": {
     "duration": 0.016451,
     "end_time": "2023-12-13T15:07:31.833394",
     "exception": false,
     "start_time": "2023-12-13T15:07:31.816943",
     "status": "completed"
    },
    "tags": []
   },
   "source": [
    "After fitting, we predict for the validation set."
   ]
  },
  {
   "cell_type": "code",
   "execution_count": 16,
   "id": "88e44649",
   "metadata": {
    "execution": {
     "iopub.execute_input": "2023-12-13T15:07:31.867629Z",
     "iopub.status.busy": "2023-12-13T15:07:31.867177Z",
     "iopub.status.idle": "2023-12-13T15:07:31.896792Z",
     "shell.execute_reply": "2023-12-13T15:07:31.895519Z"
    },
    "papermill": {
     "duration": 0.050226,
     "end_time": "2023-12-13T15:07:31.899585",
     "exception": false,
     "start_time": "2023-12-13T15:07:31.849359",
     "status": "completed"
    },
    "tags": []
   },
   "outputs": [],
   "source": [
    "y_pred_proba = clf.predict_proba(X_valid_poly)"
   ]
  },
  {
   "cell_type": "markdown",
   "id": "a4ba98bf",
   "metadata": {
    "papermill": {
     "duration": 0.015486,
     "end_time": "2023-12-13T15:07:31.931056",
     "exception": false,
     "start_time": "2023-12-13T15:07:31.915570",
     "status": "completed"
    },
    "tags": []
   },
   "source": [
    "We will now generate a log loss score over our validation set to see how our model is performing."
   ]
  },
  {
   "cell_type": "code",
   "execution_count": 17,
   "id": "abcc9cfd",
   "metadata": {
    "execution": {
     "iopub.execute_input": "2023-12-13T15:07:31.966933Z",
     "iopub.status.busy": "2023-12-13T15:07:31.966520Z",
     "iopub.status.idle": "2023-12-13T15:07:32.003320Z",
     "shell.execute_reply": "2023-12-13T15:07:32.002392Z"
    },
    "papermill": {
     "duration": 0.05864,
     "end_time": "2023-12-13T15:07:32.006347",
     "exception": false,
     "start_time": "2023-12-13T15:07:31.947707",
     "status": "completed"
    },
    "tags": []
   },
   "outputs": [
    {
     "name": "stdout",
     "output_type": "stream",
     "text": [
      "Log Loss: 0.4384276763381177\n"
     ]
    }
   ],
   "source": [
    "log_loss_score = log_loss(y_valid, clf.predict_proba(X_valid_poly))\n",
    "print(f\"Log Loss: {log_loss_score}\")"
   ]
  },
  {
   "cell_type": "markdown",
   "id": "b4783a67",
   "metadata": {
    "papermill": {
     "duration": 0.01612,
     "end_time": "2023-12-13T15:07:32.038953",
     "exception": false,
     "start_time": "2023-12-13T15:07:32.022833",
     "status": "completed"
    },
    "tags": []
   },
   "source": [
    "# Hyperparameter Tuning\n",
    "We will tune our hyperparameters using GridSearchCV.<br>\n",
    "First we will make a list of initial parameters."
   ]
  },
  {
   "cell_type": "code",
   "execution_count": 18,
   "id": "166b55e6",
   "metadata": {
    "execution": {
     "iopub.execute_input": "2023-12-13T15:07:32.073152Z",
     "iopub.status.busy": "2023-12-13T15:07:32.072189Z",
     "iopub.status.idle": "2023-12-13T15:07:32.078214Z",
     "shell.execute_reply": "2023-12-13T15:07:32.077297Z"
    },
    "papermill": {
     "duration": 0.026045,
     "end_time": "2023-12-13T15:07:32.080910",
     "exception": false,
     "start_time": "2023-12-13T15:07:32.054865",
     "status": "completed"
    },
    "tags": []
   },
   "outputs": [],
   "source": [
    "initial_params = {\n",
    "    'colsample_bytree':0.13126831193274197,\n",
    "    'lambda_l1':0.9052730145788052,\n",
    "    'lambda_l2':0.7535355957473608,\n",
    "    'learning_rate':0.09633124078144252,\n",
    "    'max_depth':9,\n",
    "    'min_child_samples':5,\n",
    "    'min_child_weight':12.505529390593734,\n",
    "    'min_gain_to_split':0.253732206404071,\n",
    "    'n_estimators':96,\n",
    "    'num_leaves':24,\n",
    "    'subsample':0.44919946959336043,\n",
    "}"
   ]
  },
  {
   "cell_type": "markdown",
   "id": "6b9eab21",
   "metadata": {
    "papermill": {
     "duration": 0.015656,
     "end_time": "2023-12-13T15:07:32.113590",
     "exception": false,
     "start_time": "2023-12-13T15:07:32.097934",
     "status": "completed"
    },
    "tags": []
   },
   "source": [
    "Next, we will make a dictionary which will contain the range of values which RandomizedSearchCV will use."
   ]
  },
  {
   "cell_type": "code",
   "execution_count": 19,
   "id": "5625b9c9",
   "metadata": {
    "execution": {
     "iopub.execute_input": "2023-12-13T15:07:32.147897Z",
     "iopub.status.busy": "2023-12-13T15:07:32.147004Z",
     "iopub.status.idle": "2023-12-13T15:07:32.167503Z",
     "shell.execute_reply": "2023-12-13T15:07:32.166522Z"
    },
    "papermill": {
     "duration": 0.040695,
     "end_time": "2023-12-13T15:07:32.170196",
     "exception": false,
     "start_time": "2023-12-13T15:07:32.129501",
     "status": "completed"
    },
    "tags": []
   },
   "outputs": [],
   "source": [
    "param_dist = {\n",
    "    'max_depth': scipy.stats.randint(low=initial_params['max_depth'] - 2, high=initial_params['max_depth'] + 2),\n",
    "    'min_child_samples': scipy.stats.randint(low=initial_params['min_child_samples'] - 2, high=initial_params['min_child_samples'] + 2),\n",
    "    'min_child_weight': scipy.stats.uniform(loc=initial_params['min_child_weight'] - 2, scale=4),\n",
    "    'n_estimators': scipy.stats.randint(low=80, high=200),\n",
    "    'lambda_l1': scipy.stats.uniform(loc=max(0, initial_params['lambda_l1'] - 0.2), scale=0.4),\n",
    "    'lambda_l2': scipy.stats.uniform(loc=max(0, initial_params['lambda_l2'] - 0.2), scale=0.4),\n",
    "    'min_gain_to_split': scipy.stats.uniform(loc=initial_params['min_gain_to_split'] - 0.2, scale=0.4),  # Adjusted range for min_gain_to_split\n",
    "    'num_leaves': scipy.stats.randint(low=initial_params['num_leaves'] - 5, high=initial_params['num_leaves'] + 5),\n",
    "    'learning_rate': scipy.stats.uniform(loc=initial_params['learning_rate'] - 0.02, scale=0.04),\n",
    "    'colsample_bytree': scipy.stats.uniform(loc=initial_params['colsample_bytree'] - 0.1, scale=0.2),\n",
    "    'subsample': scipy.stats.uniform(loc=initial_params['subsample'] - 0.1, scale=0.2),\n",
    "}"
   ]
  },
  {
   "cell_type": "markdown",
   "id": "cb64702f",
   "metadata": {
    "papermill": {
     "duration": 0.017992,
     "end_time": "2023-12-13T15:07:32.204811",
     "exception": false,
     "start_time": "2023-12-13T15:07:32.186819",
     "status": "completed"
    },
    "tags": []
   },
   "source": [
    "We will then use the RandomizedSearchCV to find the better hyperparameters."
   ]
  },
  {
   "cell_type": "code",
   "execution_count": 20,
   "id": "bc39a84f",
   "metadata": {
    "execution": {
     "iopub.execute_input": "2023-12-13T15:07:32.241532Z",
     "iopub.status.busy": "2023-12-13T15:07:32.240813Z",
     "iopub.status.idle": "2023-12-13T15:10:06.506975Z",
     "shell.execute_reply": "2023-12-13T15:10:06.505786Z"
    },
    "papermill": {
     "duration": 154.288403,
     "end_time": "2023-12-13T15:10:06.509735",
     "exception": false,
     "start_time": "2023-12-13T15:07:32.221332",
     "status": "completed"
    },
    "tags": []
   },
   "outputs": [
    {
     "name": "stdout",
     "output_type": "stream",
     "text": [
      "[LightGBM] [Warning] lambda_l1 is set=0.8601081651545851, reg_alpha=0.0 will be ignored. Current value: lambda_l1=0.8601081651545851\n",
      "[LightGBM] [Warning] lambda_l2 is set=0.8822533541647981, reg_lambda=0.0 will be ignored. Current value: lambda_l2=0.8822533541647981\n",
      "[LightGBM] [Warning] min_gain_to_split is set=0.3431799022456703, min_split_gain=0.0 will be ignored. Current value: min_gain_to_split=0.3431799022456703\n",
      "[LightGBM] [Warning] lambda_l1 is set=0.8601081651545851, reg_alpha=0.0 will be ignored. Current value: lambda_l1=0.8601081651545851\n",
      "[LightGBM] [Warning] lambda_l2 is set=0.8822533541647981, reg_lambda=0.0 will be ignored. Current value: lambda_l2=0.8822533541647981\n",
      "[LightGBM] [Warning] min_gain_to_split is set=0.3431799022456703, min_split_gain=0.0 will be ignored. Current value: min_gain_to_split=0.3431799022456703\n",
      "[LightGBM] [Warning] lambda_l1 is set=0.8601081651545851, reg_alpha=0.0 will be ignored. Current value: lambda_l1=0.8601081651545851\n",
      "[LightGBM] [Warning] lambda_l2 is set=0.8822533541647981, reg_lambda=0.0 will be ignored. Current value: lambda_l2=0.8822533541647981\n",
      "[LightGBM] [Warning] min_gain_to_split is set=0.3431799022456703, min_split_gain=0.0 will be ignored. Current value: min_gain_to_split=0.3431799022456703\n",
      "[LightGBM] [Warning] lambda_l1 is set=0.8601081651545851, reg_alpha=0.0 will be ignored. Current value: lambda_l1=0.8601081651545851\n",
      "[LightGBM] [Warning] lambda_l2 is set=0.8822533541647981, reg_lambda=0.0 will be ignored. Current value: lambda_l2=0.8822533541647981\n",
      "[LightGBM] [Warning] min_gain_to_split is set=0.3431799022456703, min_split_gain=0.0 will be ignored. Current value: min_gain_to_split=0.3431799022456703\n",
      "[LightGBM] [Warning] lambda_l1 is set=0.8601081651545851, reg_alpha=0.0 will be ignored. Current value: lambda_l1=0.8601081651545851\n",
      "[LightGBM] [Warning] lambda_l2 is set=0.8822533541647981, reg_lambda=0.0 will be ignored. Current value: lambda_l2=0.8822533541647981\n",
      "[LightGBM] [Warning] min_gain_to_split is set=0.3431799022456703, min_split_gain=0.0 will be ignored. Current value: min_gain_to_split=0.3431799022456703\n",
      "[LightGBM] [Warning] lambda_l1 is set=0.8601081651545851, reg_alpha=0.0 will be ignored. Current value: lambda_l1=0.8601081651545851\n",
      "[LightGBM] [Warning] lambda_l2 is set=0.8822533541647981, reg_lambda=0.0 will be ignored. Current value: lambda_l2=0.8822533541647981\n",
      "[LightGBM] [Warning] min_gain_to_split is set=0.3431799022456703, min_split_gain=0.0 will be ignored. Current value: min_gain_to_split=0.3431799022456703\n",
      "[LightGBM] [Warning] lambda_l1 is set=0.8601081651545851, reg_alpha=0.0 will be ignored. Current value: lambda_l1=0.8601081651545851\n",
      "[LightGBM] [Warning] lambda_l2 is set=0.8822533541647981, reg_lambda=0.0 will be ignored. Current value: lambda_l2=0.8822533541647981\n",
      "[LightGBM] [Warning] min_gain_to_split is set=0.3431799022456703, min_split_gain=0.0 will be ignored. Current value: min_gain_to_split=0.3431799022456703\n",
      "[LightGBM] [Warning] lambda_l1 is set=0.8601081651545851, reg_alpha=0.0 will be ignored. Current value: lambda_l1=0.8601081651545851\n",
      "[LightGBM] [Warning] lambda_l2 is set=0.8822533541647981, reg_lambda=0.0 will be ignored. Current value: lambda_l2=0.8822533541647981\n",
      "[LightGBM] [Warning] min_gain_to_split is set=0.3431799022456703, min_split_gain=0.0 will be ignored. Current value: min_gain_to_split=0.3431799022456703\n",
      "[LightGBM] [Warning] lambda_l1 is set=0.8601081651545851, reg_alpha=0.0 will be ignored. Current value: lambda_l1=0.8601081651545851\n",
      "[LightGBM] [Warning] lambda_l2 is set=0.8822533541647981, reg_lambda=0.0 will be ignored. Current value: lambda_l2=0.8822533541647981\n",
      "[LightGBM] [Warning] min_gain_to_split is set=0.3431799022456703, min_split_gain=0.0 will be ignored. Current value: min_gain_to_split=0.3431799022456703\n",
      "[LightGBM] [Warning] lambda_l1 is set=0.8601081651545851, reg_alpha=0.0 will be ignored. Current value: lambda_l1=0.8601081651545851\n",
      "[LightGBM] [Warning] lambda_l2 is set=0.8822533541647981, reg_lambda=0.0 will be ignored. Current value: lambda_l2=0.8822533541647981\n",
      "[LightGBM] [Warning] min_gain_to_split is set=0.3431799022456703, min_split_gain=0.0 will be ignored. Current value: min_gain_to_split=0.3431799022456703\n",
      "[LightGBM] [Warning] lambda_l1 is set=0.8275190744441645, reg_alpha=0.0 will be ignored. Current value: lambda_l1=0.8275190744441645\n",
      "[LightGBM] [Warning] lambda_l2 is set=0.8380974632212892, reg_lambda=0.0 will be ignored. Current value: lambda_l2=0.8380974632212892\n",
      "[LightGBM] [Warning] min_gain_to_split is set=0.1942908152156532, min_split_gain=0.0 will be ignored. Current value: min_gain_to_split=0.1942908152156532\n",
      "[LightGBM] [Warning] lambda_l1 is set=0.8275190744441645, reg_alpha=0.0 will be ignored. Current value: lambda_l1=0.8275190744441645\n",
      "[LightGBM] [Warning] lambda_l2 is set=0.8380974632212892, reg_lambda=0.0 will be ignored. Current value: lambda_l2=0.8380974632212892\n",
      "[LightGBM] [Warning] min_gain_to_split is set=0.1942908152156532, min_split_gain=0.0 will be ignored. Current value: min_gain_to_split=0.1942908152156532\n",
      "[LightGBM] [Warning] lambda_l1 is set=0.8275190744441645, reg_alpha=0.0 will be ignored. Current value: lambda_l1=0.8275190744441645\n",
      "[LightGBM] [Warning] lambda_l2 is set=0.8380974632212892, reg_lambda=0.0 will be ignored. Current value: lambda_l2=0.8380974632212892\n",
      "[LightGBM] [Warning] min_gain_to_split is set=0.1942908152156532, min_split_gain=0.0 will be ignored. Current value: min_gain_to_split=0.1942908152156532\n",
      "[LightGBM] [Warning] lambda_l1 is set=0.8275190744441645, reg_alpha=0.0 will be ignored. Current value: lambda_l1=0.8275190744441645\n",
      "[LightGBM] [Warning] lambda_l2 is set=0.8380974632212892, reg_lambda=0.0 will be ignored. Current value: lambda_l2=0.8380974632212892\n",
      "[LightGBM] [Warning] min_gain_to_split is set=0.1942908152156532, min_split_gain=0.0 will be ignored. Current value: min_gain_to_split=0.1942908152156532\n",
      "[LightGBM] [Warning] lambda_l1 is set=0.8275190744441645, reg_alpha=0.0 will be ignored. Current value: lambda_l1=0.8275190744441645\n",
      "[LightGBM] [Warning] lambda_l2 is set=0.8380974632212892, reg_lambda=0.0 will be ignored. Current value: lambda_l2=0.8380974632212892\n",
      "[LightGBM] [Warning] min_gain_to_split is set=0.1942908152156532, min_split_gain=0.0 will be ignored. Current value: min_gain_to_split=0.1942908152156532\n",
      "[LightGBM] [Warning] lambda_l1 is set=0.8275190744441645, reg_alpha=0.0 will be ignored. Current value: lambda_l1=0.8275190744441645\n",
      "[LightGBM] [Warning] lambda_l2 is set=0.8380974632212892, reg_lambda=0.0 will be ignored. Current value: lambda_l2=0.8380974632212892\n",
      "[LightGBM] [Warning] min_gain_to_split is set=0.1942908152156532, min_split_gain=0.0 will be ignored. Current value: min_gain_to_split=0.1942908152156532\n",
      "[LightGBM] [Warning] lambda_l1 is set=0.8275190744441645, reg_alpha=0.0 will be ignored. Current value: lambda_l1=0.8275190744441645\n",
      "[LightGBM] [Warning] lambda_l2 is set=0.8380974632212892, reg_lambda=0.0 will be ignored. Current value: lambda_l2=0.8380974632212892\n",
      "[LightGBM] [Warning] min_gain_to_split is set=0.1942908152156532, min_split_gain=0.0 will be ignored. Current value: min_gain_to_split=0.1942908152156532\n",
      "[LightGBM] [Warning] lambda_l1 is set=0.8275190744441645, reg_alpha=0.0 will be ignored. Current value: lambda_l1=0.8275190744441645\n",
      "[LightGBM] [Warning] lambda_l2 is set=0.8380974632212892, reg_lambda=0.0 will be ignored. Current value: lambda_l2=0.8380974632212892\n",
      "[LightGBM] [Warning] min_gain_to_split is set=0.1942908152156532, min_split_gain=0.0 will be ignored. Current value: min_gain_to_split=0.1942908152156532\n",
      "[LightGBM] [Warning] lambda_l1 is set=0.8275190744441645, reg_alpha=0.0 will be ignored. Current value: lambda_l1=0.8275190744441645\n",
      "[LightGBM] [Warning] lambda_l2 is set=0.8380974632212892, reg_lambda=0.0 will be ignored. Current value: lambda_l2=0.8380974632212892\n",
      "[LightGBM] [Warning] min_gain_to_split is set=0.1942908152156532, min_split_gain=0.0 will be ignored. Current value: min_gain_to_split=0.1942908152156532\n",
      "[LightGBM] [Warning] lambda_l1 is set=0.8275190744441645, reg_alpha=0.0 will be ignored. Current value: lambda_l1=0.8275190744441645\n",
      "[LightGBM] [Warning] lambda_l2 is set=0.8380974632212892, reg_lambda=0.0 will be ignored. Current value: lambda_l2=0.8380974632212892\n",
      "[LightGBM] [Warning] min_gain_to_split is set=0.1942908152156532, min_split_gain=0.0 will be ignored. Current value: min_gain_to_split=0.1942908152156532\n",
      "[LightGBM] [Warning] lambda_l1 is set=1.001055587614971, reg_alpha=0.0 will be ignored. Current value: lambda_l1=1.001055587614971\n",
      "[LightGBM] [Warning] lambda_l2 is set=0.6333011556963648, reg_lambda=0.0 will be ignored. Current value: lambda_l2=0.6333011556963648\n",
      "[LightGBM] [Warning] min_gain_to_split is set=0.2577991479551545, min_split_gain=0.0 will be ignored. Current value: min_gain_to_split=0.2577991479551545\n",
      "[LightGBM] [Warning] lambda_l1 is set=1.001055587614971, reg_alpha=0.0 will be ignored. Current value: lambda_l1=1.001055587614971\n",
      "[LightGBM] [Warning] lambda_l2 is set=0.6333011556963648, reg_lambda=0.0 will be ignored. Current value: lambda_l2=0.6333011556963648\n",
      "[LightGBM] [Warning] min_gain_to_split is set=0.2577991479551545, min_split_gain=0.0 will be ignored. Current value: min_gain_to_split=0.2577991479551545\n",
      "[LightGBM] [Warning] lambda_l1 is set=1.001055587614971, reg_alpha=0.0 will be ignored. Current value: lambda_l1=1.001055587614971\n",
      "[LightGBM] [Warning] lambda_l2 is set=0.6333011556963648, reg_lambda=0.0 will be ignored. Current value: lambda_l2=0.6333011556963648\n",
      "[LightGBM] [Warning] min_gain_to_split is set=0.2577991479551545, min_split_gain=0.0 will be ignored. Current value: min_gain_to_split=0.2577991479551545\n",
      "[LightGBM] [Warning] lambda_l1 is set=1.001055587614971, reg_alpha=0.0 will be ignored. Current value: lambda_l1=1.001055587614971\n",
      "[LightGBM] [Warning] lambda_l2 is set=0.6333011556963648, reg_lambda=0.0 will be ignored. Current value: lambda_l2=0.6333011556963648\n",
      "[LightGBM] [Warning] min_gain_to_split is set=0.2577991479551545, min_split_gain=0.0 will be ignored. Current value: min_gain_to_split=0.2577991479551545\n",
      "[LightGBM] [Warning] lambda_l1 is set=1.001055587614971, reg_alpha=0.0 will be ignored. Current value: lambda_l1=1.001055587614971\n",
      "[LightGBM] [Warning] lambda_l2 is set=0.6333011556963648, reg_lambda=0.0 will be ignored. Current value: lambda_l2=0.6333011556963648\n",
      "[LightGBM] [Warning] min_gain_to_split is set=0.2577991479551545, min_split_gain=0.0 will be ignored. Current value: min_gain_to_split=0.2577991479551545\n",
      "[LightGBM] [Warning] lambda_l1 is set=1.001055587614971, reg_alpha=0.0 will be ignored. Current value: lambda_l1=1.001055587614971\n",
      "[LightGBM] [Warning] lambda_l2 is set=0.6333011556963648, reg_lambda=0.0 will be ignored. Current value: lambda_l2=0.6333011556963648\n",
      "[LightGBM] [Warning] min_gain_to_split is set=0.2577991479551545, min_split_gain=0.0 will be ignored. Current value: min_gain_to_split=0.2577991479551545\n",
      "[LightGBM] [Warning] lambda_l1 is set=1.001055587614971, reg_alpha=0.0 will be ignored. Current value: lambda_l1=1.001055587614971\n",
      "[LightGBM] [Warning] lambda_l2 is set=0.6333011556963648, reg_lambda=0.0 will be ignored. Current value: lambda_l2=0.6333011556963648\n",
      "[LightGBM] [Warning] min_gain_to_split is set=0.2577991479551545, min_split_gain=0.0 will be ignored. Current value: min_gain_to_split=0.2577991479551545\n",
      "[LightGBM] [Warning] lambda_l1 is set=1.001055587614971, reg_alpha=0.0 will be ignored. Current value: lambda_l1=1.001055587614971\n",
      "[LightGBM] [Warning] lambda_l2 is set=0.6333011556963648, reg_lambda=0.0 will be ignored. Current value: lambda_l2=0.6333011556963648\n",
      "[LightGBM] [Warning] min_gain_to_split is set=0.2577991479551545, min_split_gain=0.0 will be ignored. Current value: min_gain_to_split=0.2577991479551545\n",
      "[LightGBM] [Warning] lambda_l1 is set=1.001055587614971, reg_alpha=0.0 will be ignored. Current value: lambda_l1=1.001055587614971\n",
      "[LightGBM] [Warning] lambda_l2 is set=0.6333011556963648, reg_lambda=0.0 will be ignored. Current value: lambda_l2=0.6333011556963648\n",
      "[LightGBM] [Warning] min_gain_to_split is set=0.2577991479551545, min_split_gain=0.0 will be ignored. Current value: min_gain_to_split=0.2577991479551545\n",
      "[LightGBM] [Warning] lambda_l1 is set=1.001055587614971, reg_alpha=0.0 will be ignored. Current value: lambda_l1=1.001055587614971\n",
      "[LightGBM] [Warning] lambda_l2 is set=0.6333011556963648, reg_lambda=0.0 will be ignored. Current value: lambda_l2=0.6333011556963648\n",
      "[LightGBM] [Warning] min_gain_to_split is set=0.2577991479551545, min_split_gain=0.0 will be ignored. Current value: min_gain_to_split=0.2577991479551545\n",
      "[LightGBM] [Warning] lambda_l1 is set=0.9318780204993757, reg_alpha=0.0 will be ignored. Current value: lambda_l1=0.9318780204993757\n",
      "[LightGBM] [Warning] lambda_l2 is set=0.6159924707808032, reg_lambda=0.0 will be ignored. Current value: lambda_l2=0.6159924707808032\n",
      "[LightGBM] [Warning] min_gain_to_split is set=0.3832474485348411, min_split_gain=0.0 will be ignored. Current value: min_gain_to_split=0.3832474485348411\n",
      "[LightGBM] [Warning] lambda_l1 is set=0.9318780204993757, reg_alpha=0.0 will be ignored. Current value: lambda_l1=0.9318780204993757\n",
      "[LightGBM] [Warning] lambda_l2 is set=0.6159924707808032, reg_lambda=0.0 will be ignored. Current value: lambda_l2=0.6159924707808032\n",
      "[LightGBM] [Warning] min_gain_to_split is set=0.3832474485348411, min_split_gain=0.0 will be ignored. Current value: min_gain_to_split=0.3832474485348411\n",
      "[LightGBM] [Warning] lambda_l1 is set=0.9318780204993757, reg_alpha=0.0 will be ignored. Current value: lambda_l1=0.9318780204993757\n",
      "[LightGBM] [Warning] lambda_l2 is set=0.6159924707808032, reg_lambda=0.0 will be ignored. Current value: lambda_l2=0.6159924707808032\n",
      "[LightGBM] [Warning] min_gain_to_split is set=0.3832474485348411, min_split_gain=0.0 will be ignored. Current value: min_gain_to_split=0.3832474485348411\n",
      "[LightGBM] [Warning] lambda_l1 is set=0.9318780204993757, reg_alpha=0.0 will be ignored. Current value: lambda_l1=0.9318780204993757\n",
      "[LightGBM] [Warning] lambda_l2 is set=0.6159924707808032, reg_lambda=0.0 will be ignored. Current value: lambda_l2=0.6159924707808032\n",
      "[LightGBM] [Warning] min_gain_to_split is set=0.3832474485348411, min_split_gain=0.0 will be ignored. Current value: min_gain_to_split=0.3832474485348411\n",
      "[LightGBM] [Warning] lambda_l1 is set=0.9318780204993757, reg_alpha=0.0 will be ignored. Current value: lambda_l1=0.9318780204993757\n",
      "[LightGBM] [Warning] lambda_l2 is set=0.6159924707808032, reg_lambda=0.0 will be ignored. Current value: lambda_l2=0.6159924707808032\n",
      "[LightGBM] [Warning] min_gain_to_split is set=0.3832474485348411, min_split_gain=0.0 will be ignored. Current value: min_gain_to_split=0.3832474485348411\n",
      "[LightGBM] [Warning] lambda_l1 is set=0.9318780204993757, reg_alpha=0.0 will be ignored. Current value: lambda_l1=0.9318780204993757\n",
      "[LightGBM] [Warning] lambda_l2 is set=0.6159924707808032, reg_lambda=0.0 will be ignored. Current value: lambda_l2=0.6159924707808032\n",
      "[LightGBM] [Warning] min_gain_to_split is set=0.3832474485348411, min_split_gain=0.0 will be ignored. Current value: min_gain_to_split=0.3832474485348411\n",
      "[LightGBM] [Warning] lambda_l1 is set=0.9318780204993757, reg_alpha=0.0 will be ignored. Current value: lambda_l1=0.9318780204993757\n",
      "[LightGBM] [Warning] lambda_l2 is set=0.6159924707808032, reg_lambda=0.0 will be ignored. Current value: lambda_l2=0.6159924707808032\n",
      "[LightGBM] [Warning] min_gain_to_split is set=0.3832474485348411, min_split_gain=0.0 will be ignored. Current value: min_gain_to_split=0.3832474485348411\n",
      "[LightGBM] [Warning] lambda_l1 is set=0.9318780204993757, reg_alpha=0.0 will be ignored. Current value: lambda_l1=0.9318780204993757\n",
      "[LightGBM] [Warning] lambda_l2 is set=0.6159924707808032, reg_lambda=0.0 will be ignored. Current value: lambda_l2=0.6159924707808032\n",
      "[LightGBM] [Warning] min_gain_to_split is set=0.3832474485348411, min_split_gain=0.0 will be ignored. Current value: min_gain_to_split=0.3832474485348411\n",
      "[LightGBM] [Warning] lambda_l1 is set=0.9318780204993757, reg_alpha=0.0 will be ignored. Current value: lambda_l1=0.9318780204993757\n",
      "[LightGBM] [Warning] lambda_l2 is set=0.6159924707808032, reg_lambda=0.0 will be ignored. Current value: lambda_l2=0.6159924707808032\n",
      "[LightGBM] [Warning] min_gain_to_split is set=0.3832474485348411, min_split_gain=0.0 will be ignored. Current value: min_gain_to_split=0.3832474485348411\n",
      "[LightGBM] [Warning] lambda_l1 is set=0.9318780204993757, reg_alpha=0.0 will be ignored. Current value: lambda_l1=0.9318780204993757\n",
      "[LightGBM] [Warning] lambda_l2 is set=0.6159924707808032, reg_lambda=0.0 will be ignored. Current value: lambda_l2=0.6159924707808032\n",
      "[LightGBM] [Warning] min_gain_to_split is set=0.3832474485348411, min_split_gain=0.0 will be ignored. Current value: min_gain_to_split=0.3832474485348411\n",
      "[LightGBM] [Warning] lambda_l1 is set=0.9206139530286421, reg_alpha=0.0 will be ignored. Current value: lambda_l1=0.9206139530286421\n",
      "[LightGBM] [Warning] lambda_l2 is set=0.5887533438323285, reg_lambda=0.0 will be ignored. Current value: lambda_l2=0.5887533438323285\n",
      "[LightGBM] [Warning] min_gain_to_split is set=0.13044808370631167, min_split_gain=0.0 will be ignored. Current value: min_gain_to_split=0.13044808370631167\n",
      "[LightGBM] [Warning] lambda_l1 is set=0.9206139530286421, reg_alpha=0.0 will be ignored. Current value: lambda_l1=0.9206139530286421\n",
      "[LightGBM] [Warning] lambda_l2 is set=0.5887533438323285, reg_lambda=0.0 will be ignored. Current value: lambda_l2=0.5887533438323285\n",
      "[LightGBM] [Warning] min_gain_to_split is set=0.13044808370631167, min_split_gain=0.0 will be ignored. Current value: min_gain_to_split=0.13044808370631167\n",
      "[LightGBM] [Warning] lambda_l1 is set=0.9206139530286421, reg_alpha=0.0 will be ignored. Current value: lambda_l1=0.9206139530286421\n",
      "[LightGBM] [Warning] lambda_l2 is set=0.5887533438323285, reg_lambda=0.0 will be ignored. Current value: lambda_l2=0.5887533438323285\n",
      "[LightGBM] [Warning] min_gain_to_split is set=0.13044808370631167, min_split_gain=0.0 will be ignored. Current value: min_gain_to_split=0.13044808370631167\n",
      "[LightGBM] [Warning] lambda_l1 is set=0.9206139530286421, reg_alpha=0.0 will be ignored. Current value: lambda_l1=0.9206139530286421\n",
      "[LightGBM] [Warning] lambda_l2 is set=0.5887533438323285, reg_lambda=0.0 will be ignored. Current value: lambda_l2=0.5887533438323285\n",
      "[LightGBM] [Warning] min_gain_to_split is set=0.13044808370631167, min_split_gain=0.0 will be ignored. Current value: min_gain_to_split=0.13044808370631167\n",
      "[LightGBM] [Warning] lambda_l1 is set=0.9206139530286421, reg_alpha=0.0 will be ignored. Current value: lambda_l1=0.9206139530286421\n",
      "[LightGBM] [Warning] lambda_l2 is set=0.5887533438323285, reg_lambda=0.0 will be ignored. Current value: lambda_l2=0.5887533438323285\n",
      "[LightGBM] [Warning] min_gain_to_split is set=0.13044808370631167, min_split_gain=0.0 will be ignored. Current value: min_gain_to_split=0.13044808370631167\n",
      "[LightGBM] [Warning] lambda_l1 is set=0.9206139530286421, reg_alpha=0.0 will be ignored. Current value: lambda_l1=0.9206139530286421\n",
      "[LightGBM] [Warning] lambda_l2 is set=0.5887533438323285, reg_lambda=0.0 will be ignored. Current value: lambda_l2=0.5887533438323285\n",
      "[LightGBM] [Warning] min_gain_to_split is set=0.13044808370631167, min_split_gain=0.0 will be ignored. Current value: min_gain_to_split=0.13044808370631167\n",
      "[LightGBM] [Warning] lambda_l1 is set=0.9206139530286421, reg_alpha=0.0 will be ignored. Current value: lambda_l1=0.9206139530286421\n",
      "[LightGBM] [Warning] lambda_l2 is set=0.5887533438323285, reg_lambda=0.0 will be ignored. Current value: lambda_l2=0.5887533438323285\n",
      "[LightGBM] [Warning] min_gain_to_split is set=0.13044808370631167, min_split_gain=0.0 will be ignored. Current value: min_gain_to_split=0.13044808370631167\n",
      "[LightGBM] [Warning] lambda_l1 is set=0.9206139530286421, reg_alpha=0.0 will be ignored. Current value: lambda_l1=0.9206139530286421\n",
      "[LightGBM] [Warning] lambda_l2 is set=0.5887533438323285, reg_lambda=0.0 will be ignored. Current value: lambda_l2=0.5887533438323285\n",
      "[LightGBM] [Warning] min_gain_to_split is set=0.13044808370631167, min_split_gain=0.0 will be ignored. Current value: min_gain_to_split=0.13044808370631167\n",
      "[LightGBM] [Warning] lambda_l1 is set=0.9206139530286421, reg_alpha=0.0 will be ignored. Current value: lambda_l1=0.9206139530286421\n",
      "[LightGBM] [Warning] lambda_l2 is set=0.5887533438323285, reg_lambda=0.0 will be ignored. Current value: lambda_l2=0.5887533438323285\n",
      "[LightGBM] [Warning] min_gain_to_split is set=0.13044808370631167, min_split_gain=0.0 will be ignored. Current value: min_gain_to_split=0.13044808370631167\n",
      "[LightGBM] [Warning] lambda_l1 is set=0.9206139530286421, reg_alpha=0.0 will be ignored. Current value: lambda_l1=0.9206139530286421\n",
      "[LightGBM] [Warning] lambda_l2 is set=0.5887533438323285, reg_lambda=0.0 will be ignored. Current value: lambda_l2=0.5887533438323285\n",
      "[LightGBM] [Warning] min_gain_to_split is set=0.13044808370631167, min_split_gain=0.0 will be ignored. Current value: min_gain_to_split=0.13044808370631167\n",
      "[LightGBM] [Warning] lambda_l1 is set=0.8601081651545851, reg_alpha=0.0 will be ignored. Current value: lambda_l1=0.8601081651545851\n",
      "[LightGBM] [Warning] lambda_l2 is set=0.8822533541647981, reg_lambda=0.0 will be ignored. Current value: lambda_l2=0.8822533541647981\n",
      "[LightGBM] [Warning] min_gain_to_split is set=0.3431799022456703, min_split_gain=0.0 will be ignored. Current value: min_gain_to_split=0.3431799022456703\n",
      "CPU times: user 3min 20s, sys: 1min 14s, total: 4min 34s\n",
      "Wall time: 2min 34s\n"
     ]
    },
    {
     "data": {
      "text/html": [
       "<style>#sk-container-id-2 {color: black;background-color: white;}#sk-container-id-2 pre{padding: 0;}#sk-container-id-2 div.sk-toggleable {background-color: white;}#sk-container-id-2 label.sk-toggleable__label {cursor: pointer;display: block;width: 100%;margin-bottom: 0;padding: 0.3em;box-sizing: border-box;text-align: center;}#sk-container-id-2 label.sk-toggleable__label-arrow:before {content: \"▸\";float: left;margin-right: 0.25em;color: #696969;}#sk-container-id-2 label.sk-toggleable__label-arrow:hover:before {color: black;}#sk-container-id-2 div.sk-estimator:hover label.sk-toggleable__label-arrow:before {color: black;}#sk-container-id-2 div.sk-toggleable__content {max-height: 0;max-width: 0;overflow: hidden;text-align: left;background-color: #f0f8ff;}#sk-container-id-2 div.sk-toggleable__content pre {margin: 0.2em;color: black;border-radius: 0.25em;background-color: #f0f8ff;}#sk-container-id-2 input.sk-toggleable__control:checked~div.sk-toggleable__content {max-height: 200px;max-width: 100%;overflow: auto;}#sk-container-id-2 input.sk-toggleable__control:checked~label.sk-toggleable__label-arrow:before {content: \"▾\";}#sk-container-id-2 div.sk-estimator input.sk-toggleable__control:checked~label.sk-toggleable__label {background-color: #d4ebff;}#sk-container-id-2 div.sk-label input.sk-toggleable__control:checked~label.sk-toggleable__label {background-color: #d4ebff;}#sk-container-id-2 input.sk-hidden--visually {border: 0;clip: rect(1px 1px 1px 1px);clip: rect(1px, 1px, 1px, 1px);height: 1px;margin: -1px;overflow: hidden;padding: 0;position: absolute;width: 1px;}#sk-container-id-2 div.sk-estimator {font-family: monospace;background-color: #f0f8ff;border: 1px dotted black;border-radius: 0.25em;box-sizing: border-box;margin-bottom: 0.5em;}#sk-container-id-2 div.sk-estimator:hover {background-color: #d4ebff;}#sk-container-id-2 div.sk-parallel-item::after {content: \"\";width: 100%;border-bottom: 1px solid gray;flex-grow: 1;}#sk-container-id-2 div.sk-label:hover label.sk-toggleable__label {background-color: #d4ebff;}#sk-container-id-2 div.sk-serial::before {content: \"\";position: absolute;border-left: 1px solid gray;box-sizing: border-box;top: 0;bottom: 0;left: 50%;z-index: 0;}#sk-container-id-2 div.sk-serial {display: flex;flex-direction: column;align-items: center;background-color: white;padding-right: 0.2em;padding-left: 0.2em;position: relative;}#sk-container-id-2 div.sk-item {position: relative;z-index: 1;}#sk-container-id-2 div.sk-parallel {display: flex;align-items: stretch;justify-content: center;background-color: white;position: relative;}#sk-container-id-2 div.sk-item::before, #sk-container-id-2 div.sk-parallel-item::before {content: \"\";position: absolute;border-left: 1px solid gray;box-sizing: border-box;top: 0;bottom: 0;left: 50%;z-index: -1;}#sk-container-id-2 div.sk-parallel-item {display: flex;flex-direction: column;z-index: 1;position: relative;background-color: white;}#sk-container-id-2 div.sk-parallel-item:first-child::after {align-self: flex-end;width: 50%;}#sk-container-id-2 div.sk-parallel-item:last-child::after {align-self: flex-start;width: 50%;}#sk-container-id-2 div.sk-parallel-item:only-child::after {width: 0;}#sk-container-id-2 div.sk-dashed-wrapped {border: 1px dashed gray;margin: 0 0.4em 0.5em 0.4em;box-sizing: border-box;padding-bottom: 0.4em;background-color: white;}#sk-container-id-2 div.sk-label label {font-family: monospace;font-weight: bold;display: inline-block;line-height: 1.2em;}#sk-container-id-2 div.sk-label-container {text-align: center;}#sk-container-id-2 div.sk-container {/* jupyter's `normalize.less` sets `[hidden] { display: none; }` but bootstrap.min.css set `[hidden] { display: none !important; }` so we also need the `!important` here to be able to override the default hidden behavior on the sphinx rendered scikit-learn.org. See: https://github.com/scikit-learn/scikit-learn/issues/21755 */display: inline-block !important;position: relative;}#sk-container-id-2 div.sk-text-repr-fallback {display: none;}</style><div id=\"sk-container-id-2\" class=\"sk-top-container\"><div class=\"sk-text-repr-fallback\"><pre>RandomizedSearchCV(cv=10,\n",
       "                   estimator=LGBMClassifier(colsample_bytree=0.024440530059814475,\n",
       "                                            lambda_l1=0.851568757271025,\n",
       "                                            lambda_l2=0.6986338677174764,\n",
       "                                            learning_rate=0.07322492408954809,\n",
       "                                            max_depth=7, metric=&#x27;multi_logloss&#x27;,\n",
       "                                            min_child_samples=8,\n",
       "                                            min_child_weight=12.618916687176323,\n",
       "                                            min_gain_to_split=0.022185549105773583,\n",
       "                                            n_estimators=156, num_class=3,\n",
       "                                            num_leaves=2...\n",
       "                                        &#x27;min_gain_to_split&#x27;: &lt;scipy.stats._distn_infrastructure.rv_continuous_frozen object at 0x7b1c932aada0&gt;,\n",
       "                                        &#x27;n_estimators&#x27;: &lt;scipy.stats._distn_infrastructure.rv_discrete_frozen object at 0x7b1c932ab880&gt;,\n",
       "                                        &#x27;num_leaves&#x27;: &lt;scipy.stats._distn_infrastructure.rv_discrete_frozen object at 0x7b1c932a99f0&gt;,\n",
       "                                        &#x27;subsample&#x27;: &lt;scipy.stats._distn_infrastructure.rv_continuous_frozen object at 0x7b1c932ab580&gt;},\n",
       "                   scoring=&#x27;neg_log_loss&#x27;)</pre><b>In a Jupyter environment, please rerun this cell to show the HTML representation or trust the notebook. <br />On GitHub, the HTML representation is unable to render, please try loading this page with nbviewer.org.</b></div><div class=\"sk-container\" hidden><div class=\"sk-item sk-dashed-wrapped\"><div class=\"sk-label-container\"><div class=\"sk-label sk-toggleable\"><input class=\"sk-toggleable__control sk-hidden--visually\" id=\"sk-estimator-id-2\" type=\"checkbox\" ><label for=\"sk-estimator-id-2\" class=\"sk-toggleable__label sk-toggleable__label-arrow\">RandomizedSearchCV</label><div class=\"sk-toggleable__content\"><pre>RandomizedSearchCV(cv=10,\n",
       "                   estimator=LGBMClassifier(colsample_bytree=0.024440530059814475,\n",
       "                                            lambda_l1=0.851568757271025,\n",
       "                                            lambda_l2=0.6986338677174764,\n",
       "                                            learning_rate=0.07322492408954809,\n",
       "                                            max_depth=7, metric=&#x27;multi_logloss&#x27;,\n",
       "                                            min_child_samples=8,\n",
       "                                            min_child_weight=12.618916687176323,\n",
       "                                            min_gain_to_split=0.022185549105773583,\n",
       "                                            n_estimators=156, num_class=3,\n",
       "                                            num_leaves=2...\n",
       "                                        &#x27;min_gain_to_split&#x27;: &lt;scipy.stats._distn_infrastructure.rv_continuous_frozen object at 0x7b1c932aada0&gt;,\n",
       "                                        &#x27;n_estimators&#x27;: &lt;scipy.stats._distn_infrastructure.rv_discrete_frozen object at 0x7b1c932ab880&gt;,\n",
       "                                        &#x27;num_leaves&#x27;: &lt;scipy.stats._distn_infrastructure.rv_discrete_frozen object at 0x7b1c932a99f0&gt;,\n",
       "                                        &#x27;subsample&#x27;: &lt;scipy.stats._distn_infrastructure.rv_continuous_frozen object at 0x7b1c932ab580&gt;},\n",
       "                   scoring=&#x27;neg_log_loss&#x27;)</pre></div></div></div><div class=\"sk-parallel\"><div class=\"sk-parallel-item\"><div class=\"sk-item\"><div class=\"sk-label-container\"><div class=\"sk-label sk-toggleable\"><input class=\"sk-toggleable__control sk-hidden--visually\" id=\"sk-estimator-id-3\" type=\"checkbox\" ><label for=\"sk-estimator-id-3\" class=\"sk-toggleable__label sk-toggleable__label-arrow\">estimator: LGBMClassifier</label><div class=\"sk-toggleable__content\"><pre>LGBMClassifier(colsample_bytree=0.024440530059814475,\n",
       "               lambda_l1=0.851568757271025, lambda_l2=0.6986338677174764,\n",
       "               learning_rate=0.07322492408954809, max_depth=7,\n",
       "               metric=&#x27;multi_logloss&#x27;, min_child_samples=8,\n",
       "               min_child_weight=12.618916687176323,\n",
       "               min_gain_to_split=0.022185549105773583, n_estimators=156,\n",
       "               num_class=3, num_leaves=23, objective=&#x27;multiclass&#x27;,\n",
       "               random_state=42, subsample=0.555311369173475)</pre></div></div></div><div class=\"sk-serial\"><div class=\"sk-item\"><div class=\"sk-estimator sk-toggleable\"><input class=\"sk-toggleable__control sk-hidden--visually\" id=\"sk-estimator-id-4\" type=\"checkbox\" ><label for=\"sk-estimator-id-4\" class=\"sk-toggleable__label sk-toggleable__label-arrow\">LGBMClassifier</label><div class=\"sk-toggleable__content\"><pre>LGBMClassifier(colsample_bytree=0.024440530059814475,\n",
       "               lambda_l1=0.851568757271025, lambda_l2=0.6986338677174764,\n",
       "               learning_rate=0.07322492408954809, max_depth=7,\n",
       "               metric=&#x27;multi_logloss&#x27;, min_child_samples=8,\n",
       "               min_child_weight=12.618916687176323,\n",
       "               min_gain_to_split=0.022185549105773583, n_estimators=156,\n",
       "               num_class=3, num_leaves=23, objective=&#x27;multiclass&#x27;,\n",
       "               random_state=42, subsample=0.555311369173475)</pre></div></div></div></div></div></div></div></div></div></div>"
      ],
      "text/plain": [
       "RandomizedSearchCV(cv=10,\n",
       "                   estimator=LGBMClassifier(colsample_bytree=0.024440530059814475,\n",
       "                                            lambda_l1=0.851568757271025,\n",
       "                                            lambda_l2=0.6986338677174764,\n",
       "                                            learning_rate=0.07322492408954809,\n",
       "                                            max_depth=7, metric='multi_logloss',\n",
       "                                            min_child_samples=8,\n",
       "                                            min_child_weight=12.618916687176323,\n",
       "                                            min_gain_to_split=0.022185549105773583,\n",
       "                                            n_estimators=156, num_class=3,\n",
       "                                            num_leaves=2...\n",
       "                                        'min_gain_to_split': <scipy.stats._distn_infrastructure.rv_continuous_frozen object at 0x7b1c932aada0>,\n",
       "                                        'n_estimators': <scipy.stats._distn_infrastructure.rv_discrete_frozen object at 0x7b1c932ab880>,\n",
       "                                        'num_leaves': <scipy.stats._distn_infrastructure.rv_discrete_frozen object at 0x7b1c932a99f0>,\n",
       "                                        'subsample': <scipy.stats._distn_infrastructure.rv_continuous_frozen object at 0x7b1c932ab580>},\n",
       "                   scoring='neg_log_loss')"
      ]
     },
     "execution_count": 20,
     "metadata": {},
     "output_type": "execute_result"
    }
   ],
   "source": [
    "%%time\n",
    "random_search = RandomizedSearchCV(\n",
    "    clf,\n",
    "    param_distributions=param_dist,\n",
    "    n_iter=5,\n",
    "    scoring='neg_log_loss',\n",
    "    cv=10,\n",
    "    n_jobs=-1\n",
    ")\n",
    "random_search.fit(X_train_poly, y_train)"
   ]
  },
  {
   "cell_type": "code",
   "execution_count": 21,
   "id": "80e1467f",
   "metadata": {
    "execution": {
     "iopub.execute_input": "2023-12-13T15:10:06.554739Z",
     "iopub.status.busy": "2023-12-13T15:10:06.554072Z",
     "iopub.status.idle": "2023-12-13T15:10:06.561514Z",
     "shell.execute_reply": "2023-12-13T15:10:06.559531Z"
    },
    "papermill": {
     "duration": 0.032999,
     "end_time": "2023-12-13T15:10:06.564192",
     "exception": false,
     "start_time": "2023-12-13T15:10:06.531193",
     "status": "completed"
    },
    "tags": []
   },
   "outputs": [
    {
     "name": "stdout",
     "output_type": "stream",
     "text": [
      "The best hyperparameters are\n",
      "    'colsample_bytree':0.039428481081836456,\n",
      "    'lambda_l1':0.8601081651545851,\n",
      "    'lambda_l2':0.8822533541647981,\n",
      "    'learning_rate':0.08579379178727162,\n",
      "    'max_depth':7,\n",
      "    'min_child_samples':5,\n",
      "    'min_child_weight':11.33502865866598,\n",
      "    'min_gain_to_split':0.3431799022456703,\n",
      "    'n_estimators':139,\n",
      "    'num_leaves':21,\n",
      "    'subsample':0.357765077818825,\n"
     ]
    }
   ],
   "source": [
    "print(\"The best hyperparameters are\")\n",
    "for key, value in random_search.best_params_.items():\n",
    "    print(f\"    '{key}':{value},\")"
   ]
  },
  {
   "cell_type": "markdown",
   "id": "071b915f",
   "metadata": {
    "papermill": {
     "duration": 0.022144,
     "end_time": "2023-12-13T15:10:06.608075",
     "exception": false,
     "start_time": "2023-12-13T15:10:06.585931",
     "status": "completed"
    },
    "tags": []
   },
   "source": [
    "We will create a function which formats our best parameters dictionary into a list so that we can plug it directly into the GBMClassfier."
   ]
  },
  {
   "cell_type": "code",
   "execution_count": 22,
   "id": "8515e6d5",
   "metadata": {
    "execution": {
     "iopub.execute_input": "2023-12-13T15:10:06.652986Z",
     "iopub.status.busy": "2023-12-13T15:10:06.652601Z",
     "iopub.status.idle": "2023-12-13T15:10:06.659352Z",
     "shell.execute_reply": "2023-12-13T15:10:06.658160Z"
    },
    "papermill": {
     "duration": 0.033356,
     "end_time": "2023-12-13T15:10:06.662981",
     "exception": false,
     "start_time": "2023-12-13T15:10:06.629625",
     "status": "completed"
    },
    "tags": []
   },
   "outputs": [
    {
     "name": "stdout",
     "output_type": "stream",
     "text": [
      "    colsample_bytree=0.039428481081836456,\n",
      "    lambda_l1=0.8601081651545851,\n",
      "    lambda_l2=0.8822533541647981,\n",
      "    learning_rate=0.08579379178727162,\n",
      "    max_depth=7,\n",
      "    min_child_samples=5,\n",
      "    min_child_weight=11.33502865866598,\n",
      "    min_gain_to_split=0.3431799022456703,\n",
      "    n_estimators=139,\n",
      "    num_leaves=21,\n",
      "    subsample=0.357765077818825,\n"
     ]
    }
   ],
   "source": [
    "def dict_to_list(best_hyperparameters):\n",
    "    formatted_list = [f\"    {key}={value},\" if not isinstance(value, int) else f\"    {key}={value},\" for key, value in best_hyperparameters.items()]\n",
    "    return '\\n'.join(formatted_list)\n",
    "\n",
    "par_list = dict_to_list(random_search.best_params_)\n",
    "print(par_list)"
   ]
  },
  {
   "cell_type": "markdown",
   "id": "f51565b9",
   "metadata": {
    "papermill": {
     "duration": 0.021483,
     "end_time": "2023-12-13T15:10:06.706570",
     "exception": false,
     "start_time": "2023-12-13T15:10:06.685087",
     "status": "completed"
    },
    "tags": []
   },
   "source": [
    "The hyperparameters recieved are then plugged into the LightGBM model."
   ]
  },
  {
   "cell_type": "markdown",
   "id": "b98c4a84",
   "metadata": {
    "papermill": {
     "duration": 0.02109,
     "end_time": "2023-12-13T15:10:06.749418",
     "exception": false,
     "start_time": "2023-12-13T15:10:06.728328",
     "status": "completed"
    },
    "tags": []
   },
   "source": [
    "# Predictions"
   ]
  },
  {
   "cell_type": "markdown",
   "id": "e3894032",
   "metadata": {
    "papermill": {
     "duration": 0.022232,
     "end_time": "2023-12-13T15:10:06.794195",
     "exception": false,
     "start_time": "2023-12-13T15:10:06.771963",
     "status": "completed"
    },
    "tags": []
   },
   "source": [
    "Now we will predict the data using the data in the test set test set."
   ]
  },
  {
   "cell_type": "code",
   "execution_count": 23,
   "id": "266b8a5f",
   "metadata": {
    "execution": {
     "iopub.execute_input": "2023-12-13T15:10:06.839481Z",
     "iopub.status.busy": "2023-12-13T15:10:06.839077Z",
     "iopub.status.idle": "2023-12-13T15:10:06.912899Z",
     "shell.execute_reply": "2023-12-13T15:10:06.911696Z"
    },
    "papermill": {
     "duration": 0.099845,
     "end_time": "2023-12-13T15:10:06.915762",
     "exception": false,
     "start_time": "2023-12-13T15:10:06.815917",
     "status": "completed"
    },
    "tags": []
   },
   "outputs": [],
   "source": [
    "ans = clf.predict_proba(test_data_poly)"
   ]
  },
  {
   "cell_type": "markdown",
   "id": "357b2cdc",
   "metadata": {
    "papermill": {
     "duration": 0.02116,
     "end_time": "2023-12-13T15:10:06.958938",
     "exception": false,
     "start_time": "2023-12-13T15:10:06.937778",
     "status": "completed"
    },
    "tags": []
   },
   "source": [
    "# Submission"
   ]
  },
  {
   "cell_type": "code",
   "execution_count": 24,
   "id": "6287d627",
   "metadata": {
    "execution": {
     "iopub.execute_input": "2023-12-13T15:10:07.006739Z",
     "iopub.status.busy": "2023-12-13T15:10:07.006331Z",
     "iopub.status.idle": "2023-12-13T15:10:07.066490Z",
     "shell.execute_reply": "2023-12-13T15:10:07.065054Z"
    },
    "papermill": {
     "duration": 0.086025,
     "end_time": "2023-12-13T15:10:07.069080",
     "exception": false,
     "start_time": "2023-12-13T15:10:06.983055",
     "status": "completed"
    },
    "tags": []
   },
   "outputs": [
    {
     "name": "stdout",
     "output_type": "stream",
     "text": [
      "Your submission was saved.\n"
     ]
    }
   ],
   "source": [
    "test_id = test_data['id']\n",
    "submission_df = pd.DataFrame({\n",
    "    'id': test_id,\n",
    "    'Status_C': ans[:, 0],\n",
    "    'Status_CL': ans[:, 1],\n",
    "    'Status_D': ans[:, 2]\n",
    "})\n",
    "submission_df.to_csv('submission.csv', index=False)\n",
    "print('Your submission was saved.')"
   ]
  },
  {
   "cell_type": "markdown",
   "id": "68fcdcff",
   "metadata": {
    "papermill": {
     "duration": 0.021405,
     "end_time": "2023-12-13T15:10:07.112633",
     "exception": false,
     "start_time": "2023-12-13T15:10:07.091228",
     "status": "completed"
    },
    "tags": []
   },
   "source": [
    "Finally the data is saved into the submission file."
   ]
  }
 ],
 "metadata": {
  "kaggle": {
   "accelerator": "none",
   "dataSources": [
    {
     "databundleVersionId": 7000181,
     "sourceId": 60893,
     "sourceType": "competition"
    }
   ],
   "dockerImageVersionId": 30615,
   "isGpuEnabled": false,
   "isInternetEnabled": true,
   "language": "python",
   "sourceType": "notebook"
  },
  "kernelspec": {
   "display_name": "Python 3",
   "language": "python",
   "name": "python3"
  },
  "language_info": {
   "codemirror_mode": {
    "name": "ipython",
    "version": 3
   },
   "file_extension": ".py",
   "mimetype": "text/x-python",
   "name": "python",
   "nbconvert_exporter": "python",
   "pygments_lexer": "ipython3",
   "version": "3.10.12"
  },
  "papermill": {
   "default_parameters": {},
   "duration": 169.2641,
   "end_time": "2023-12-13T15:10:07.957326",
   "environment_variables": {},
   "exception": null,
   "input_path": "__notebook__.ipynb",
   "output_path": "__notebook__.ipynb",
   "parameters": {},
   "start_time": "2023-12-13T15:07:18.693226",
   "version": "2.4.0"
  }
 },
 "nbformat": 4,
 "nbformat_minor": 5
}
